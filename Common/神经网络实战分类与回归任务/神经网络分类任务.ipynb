{
 "cells": [
  {
   "cell_type": "markdown",
   "metadata": {},
   "source": [
    "### Mnist分类任务：\n",
    "\n",
    "- 网络基本构建与训练方法，常用函数解析\n",
    "\n",
    "- torch.nn.functional模块\n",
    "\n",
    "- nn.Module模块\n"
   ]
  },
  {
   "cell_type": "markdown",
   "metadata": {},
   "source": [
    "### 读取Mnist数据集\n",
    "- 会自动进行下载"
   ]
  },
  {
   "cell_type": "code",
   "execution_count": 2,
   "metadata": {
    "ExecuteTime": {
     "end_time": "2024-01-01T09:26:15.842061700Z",
     "start_time": "2024-01-01T09:26:15.443067900Z"
    }
   },
   "outputs": [],
   "source": [
    "%matplotlib inline"
   ]
  },
  {
   "cell_type": "code",
   "execution_count": 3,
   "metadata": {
    "ExecuteTime": {
     "end_time": "2024-01-01T09:26:15.921581Z",
     "start_time": "2024-01-01T09:26:15.844756800Z"
    }
   },
   "outputs": [],
   "source": [
    "from pathlib import Path\n",
    "import requests\n",
    "\n",
    "DATA_PATH = Path(\"data\")\n",
    "PATH = DATA_PATH / \"mnist\"\n",
    "\n",
    "PATH.mkdir(parents=True, exist_ok=True)\n",
    "\n",
    "URL = \"http://deeplearning.net/data/mnist/\"\n",
    "FILENAME = \"mnist.pkl.gz\"\n",
    "# 不存在下载数据集\n",
    "if not (PATH / FILENAME).exists():\n",
    "        content = requests.get(URL + FILENAME).content\n",
    "        (PATH / FILENAME).open(\"wb\").write(content)"
   ]
  },
  {
   "cell_type": "code",
   "execution_count": 4,
   "metadata": {
    "ExecuteTime": {
     "end_time": "2024-01-01T09:26:16.605618600Z",
     "start_time": "2024-01-01T09:26:15.921581Z"
    }
   },
   "outputs": [],
   "source": [
    "import pickle\n",
    "import gzip\n",
    "\n",
    "with gzip.open((PATH / FILENAME).as_posix(), \"rb\") as f:\n",
    "        ((x_train, y_train), (x_valid, y_valid), _) = pickle.load(f, encoding=\"latin-1\")"
   ]
  },
  {
   "cell_type": "markdown",
   "metadata": {},
   "source": [
    "784是mnist数据集每个样本的像素点个数"
   ]
  },
  {
   "cell_type": "code",
   "execution_count": 5,
   "metadata": {
    "ExecuteTime": {
     "end_time": "2024-01-01T09:26:16.701543500Z",
     "start_time": "2024-01-01T09:26:16.606630500Z"
    }
   },
   "outputs": [
    {
     "name": "stdout",
     "output_type": "stream",
     "text": [
      "(50000, 784)\n"
     ]
    },
    {
     "data": {
      "text/plain": "<Figure size 640x480 with 1 Axes>",
      "image/png": "[encoded data removed]"
     },
     "metadata": {},
     "output_type": "display_data"
    }
   ],
   "source": [
    "from matplotlib import pyplot\n",
    "import numpy as np\n",
    "\n",
    "# reshape((28, 28)) 的目的是将一维数组重新塑造为一个 28x28 的二维数组。在 MNIST 数据集中，每张图像的大小是 28x28 像素，因此这个 reshape 操作有助于将\n",
    "# 平的一维数组转换为具有图像结构的矩阵形式\n",
    "pyplot.imshow(x_train[0].reshape((28, 28)), cmap=\"gray\")\n",
    "print(x_train.shape)"
   ]
  },
  {
   "cell_type": "markdown",
   "metadata": {},
   "source": [
    "<img src=\"./img/4.png\" alt=\"FAO\" width=\"790\">"
   ]
  },
  {
   "cell_type": "markdown",
   "metadata": {},
   "source": [
    "<img src=\"./img/5.png\" alt=\"FAO\" width=\"790\">"
   ]
  },
  {
   "cell_type": "markdown",
   "metadata": {},
   "source": [
    "注意数据需转换成tensor才能参与后续建模训练\n"
   ]
  },
  {
   "cell_type": "code",
   "execution_count": 6,
   "metadata": {
    "ExecuteTime": {
     "end_time": "2024-01-01T09:26:18.479617800Z",
     "start_time": "2024-01-01T09:26:18.427657100Z"
    }
   },
   "outputs": [
    {
     "name": "stdout",
     "output_type": "stream",
     "text": [
      "tensor([[0., 0., 0.,  ..., 0., 0., 0.],\n",
      "        [0., 0., 0.,  ..., 0., 0., 0.],\n",
      "        [0., 0., 0.,  ..., 0., 0., 0.],\n",
      "        ...,\n",
      "        [0., 0., 0.,  ..., 0., 0., 0.],\n",
      "        [0., 0., 0.,  ..., 0., 0., 0.],\n",
      "        [0., 0., 0.,  ..., 0., 0., 0.]]) tensor([5, 0, 4,  ..., 8, 4, 8])\n",
      "torch.Size([50000, 784])\n",
      "tensor(0) tensor(9)\n"
     ]
    }
   ],
   "source": [
    "import torch\n",
    "\n",
    "# 等同如下代码\n",
    "# x_train = torch.tensor(x_train)\n",
    "# y_train = torch.tensor(y_train)\n",
    "# x_valid = torch.tensor(x_valid)\n",
    "# y_valid = torch.tensor(y_valid)\n",
    "x_train, y_train, x_valid, y_valid = map(\n",
    "    torch.tensor, (x_train, y_train, x_valid, y_valid)\n",
    ")\n",
    "\n",
    "n, c = x_train.shape\n",
    "x_train, x_train.shape, y_train.min(), y_train.max()\n",
    "print(x_train, y_train)\n",
    "print(x_train.shape)\n",
    "print(y_train.min(), y_train.max())"
   ]
  },
  {
   "cell_type": "markdown",
   "metadata": {},
   "source": [
    "### torch.nn.functional 很多层和函数在这里都会见到\n",
    "\n",
    "torch.nn.functional中有很多功能，后续会常用的。那什么时候使用nn.Module，什么时候使用nn.functional呢？一般情况下，如果模型有可学习的参数，最好用nn.Module，其他情况nn.functional相对更简单一些"
   ]
  },
  {
   "cell_type": "code",
   "execution_count": 7,
   "metadata": {
    "ExecuteTime": {
     "end_time": "2024-01-01T09:26:18.499136100Z",
     "start_time": "2024-01-01T09:26:18.481426200Z"
    }
   },
   "outputs": [],
   "source": [
    "import torch.nn.functional as F\n",
    "# 多类别分类任务中的交叉熵损失（Cross Entropy Loss）的函数。在深度学习中，交叉熵损失通常用于衡量模型输出与真实标签之间的差异，特别适用于分类问题\n",
    "loss_func = F.cross_entropy\n",
    "\n",
    "def model(xb):\n",
    "    # .mm矩阵乘法\n",
    "    return xb.mm(weights) + bias"
   ]
  },
  {
   "cell_type": "code",
   "execution_count": 8,
   "metadata": {
    "ExecuteTime": {
     "end_time": "2024-01-01T09:26:18.530892300Z",
     "start_time": "2024-01-01T09:26:18.502429600Z"
    }
   },
   "outputs": [
    {
     "name": "stdout",
     "output_type": "stream",
     "text": [
      "tensor(17.0236, grad_fn=<NllLossBackward0>)\n"
     ]
    }
   ],
   "source": [
    "# 使用的样本数量为 64\n",
    "bs = 64\n",
    "# 从训练数据中取出一个大小为 bs 的 mini-batch\n",
    "xb = x_train[0:bs]  # a mini-batch from x\n",
    "yb = y_train[0:bs]\n",
    "# 初始化为随机值\n",
    "weights = torch.randn([784, 10], dtype = torch.float,  requires_grad = True) \n",
    "bs = 64\n",
    "# 创建一个大小为 10 的偏置向量，并将其初始化为零。与权重类似\n",
    "bias = torch.zeros(10, requires_grad=True)\n",
    "\n",
    "print(loss_func(model(xb), yb))"
   ]
  },
  {
   "cell_type": "markdown",
   "metadata": {},
   "source": [
    "### 创建一个model来更简化代码"
   ]
  },
  {
   "cell_type": "markdown",
   "metadata": {},
   "source": [
    "- 必须继承nn.Module且在其构造函数中需调用nn.Module的构造函数\n",
    "- 无需写反向传播函数，nn.Module能够利用autograd自动实现反向传播\n",
    "- Module中的可学习参数可以通过named_parameters()或者parameters()返回迭代器"
   ]
  },
  {
   "cell_type": "code",
   "execution_count": 9,
   "metadata": {
    "ExecuteTime": {
     "end_time": "2024-01-01T09:26:18.553076400Z",
     "start_time": "2024-01-01T09:26:18.506811700Z"
    }
   },
   "outputs": [],
   "source": [
    "from torch import nn\n",
    "\n",
    "class Mnist_NN(nn.Module):\n",
    "    # nn.Linear(in_features, out_features) 表示一个全连接层，其中 in_features 是输入特征的数量，而 out_features 是输出特征的数量。\n",
    "    # self.hidden1、self.hidden2 和 self.out 是三个全连接层，分别连接输入层到第一个隐藏层、第一个隐藏层到第二个隐藏层，以及第二个隐藏层到输出层\n",
    "    def __init__(self):\n",
    "        super().__init__()\n",
    "        self.hidden1 = nn.Linear(784, 128)\n",
    "        self.hidden2 = nn.Linear(128, 256)\n",
    "        self.out  = nn.Linear(256, 10)\n",
    "        \n",
    "    # 输入 x 通过两个隐藏层，经过 ReLU 激活函数，并最终通过输出层。每个隐藏层后都应用了 ReLU（Rectified Linear Unit）激活函数，而输出层没有应用激活函数\n",
    "    def forward(self, x):\n",
    "        x = F.relu(self.hidden1(x))\n",
    "        x = F.relu(self.hidden2(x))\n",
    "        x = self.out(x)\n",
    "        return x\n",
    "        "
   ]
  },
  {
   "cell_type": "code",
   "execution_count": 10,
   "metadata": {
    "ExecuteTime": {
     "end_time": "2024-01-01T09:26:18.594604500Z",
     "start_time": "2024-01-01T09:26:18.534389Z"
    }
   },
   "outputs": [
    {
     "name": "stdout",
     "output_type": "stream",
     "text": [
      "Mnist_NN(\n",
      "  (hidden1): Linear(in_features=784, out_features=128, bias=True)\n",
      "  (hidden2): Linear(in_features=128, out_features=256, bias=True)\n",
      "  (out): Linear(in_features=256, out_features=10, bias=True)\n",
      ")\n"
     ]
    }
   ],
   "source": [
    "net = Mnist_NN()\n",
    "print(net)\n"
   ]
  },
  {
   "cell_type": "markdown",
   "metadata": {},
   "source": [
    "可以打印我们定义好名字里的权重和偏置项"
   ]
  },
  {
   "cell_type": "code",
   "execution_count": 11,
   "metadata": {
    "ExecuteTime": {
     "end_time": "2024-01-01T09:26:18.617385900Z",
     "start_time": "2024-01-01T09:26:18.597104Z"
    }
   },
   "outputs": [
    {
     "name": "stdout",
     "output_type": "stream",
     "text": [
      "hidden1.weight Parameter containing:\n",
      "tensor([[ 0.0034, -0.0128, -0.0170,  ...,  0.0306, -0.0351, -0.0171],\n",
      "        [-0.0254,  0.0339,  0.0154,  ..., -0.0038, -0.0275, -0.0079],\n",
      "        [-0.0046,  0.0026, -0.0318,  ...,  0.0123,  0.0072, -0.0341],\n",
      "        ...,\n",
      "        [-0.0198,  0.0245,  0.0107,  ...,  0.0258,  0.0355,  0.0133],\n",
      "        [ 0.0220, -0.0186,  0.0028,  ...,  0.0353,  0.0122, -0.0311],\n",
      "        [-0.0355, -0.0106, -0.0251,  ...,  0.0030, -0.0238, -0.0260]],\n",
      "       requires_grad=True) torch.Size([128, 784])\n",
      "hidden1.bias Parameter containing:\n",
      "tensor([-0.0323,  0.0086,  0.0338,  0.0338, -0.0062, -0.0254,  0.0267,  0.0149,\n",
      "        -0.0179,  0.0195,  0.0279, -0.0167, -0.0011, -0.0074, -0.0204,  0.0276,\n",
      "        -0.0099, -0.0183,  0.0219,  0.0306, -0.0171, -0.0088, -0.0074,  0.0345,\n",
      "         0.0259,  0.0325,  0.0038,  0.0317, -0.0245,  0.0073, -0.0231, -0.0353,\n",
      "         0.0241, -0.0129,  0.0024,  0.0024, -0.0176,  0.0043, -0.0318, -0.0101,\n",
      "        -0.0018,  0.0101, -0.0011, -0.0058, -0.0293,  0.0077, -0.0265,  0.0039,\n",
      "        -0.0080,  0.0094,  0.0278,  0.0008,  0.0033,  0.0089, -0.0324, -0.0352,\n",
      "        -0.0143,  0.0114,  0.0110, -0.0353, -0.0251, -0.0313, -0.0025,  0.0247,\n",
      "        -0.0289,  0.0005, -0.0195,  0.0226,  0.0126, -0.0270,  0.0057,  0.0047,\n",
      "         0.0070, -0.0068, -0.0236, -0.0177, -0.0216, -0.0352,  0.0145,  0.0133,\n",
      "        -0.0146, -0.0349,  0.0153,  0.0252,  0.0340, -0.0025, -0.0172, -0.0156,\n",
      "         0.0279, -0.0001, -0.0088, -0.0141, -0.0332,  0.0351, -0.0216,  0.0150,\n",
      "         0.0205, -0.0254, -0.0158,  0.0058,  0.0317, -0.0223, -0.0266,  0.0157,\n",
      "         0.0134, -0.0174,  0.0261, -0.0079,  0.0174,  0.0302, -0.0310, -0.0304,\n",
      "         0.0224, -0.0293, -0.0269, -0.0085, -0.0004,  0.0274,  0.0145,  0.0005,\n",
      "         0.0156, -0.0168, -0.0288,  0.0290, -0.0068,  0.0253, -0.0048,  0.0227],\n",
      "       requires_grad=True) torch.Size([128])\n",
      "hidden2.weight Parameter containing:\n",
      "tensor([[ 4.6960e-02, -5.0931e-02, -5.9341e-02,  ..., -7.6652e-02,\n",
      "         -1.9090e-02, -5.8799e-02],\n",
      "        [-6.5560e-02,  2.9080e-02,  2.7601e-02,  ..., -4.2468e-02,\n",
      "          3.1514e-02, -8.6468e-02],\n",
      "        [-4.0508e-02,  1.8608e-02, -2.7543e-03,  ...,  2.0895e-02,\n",
      "          8.4910e-02, -2.9132e-02],\n",
      "        ...,\n",
      "        [-6.0363e-02, -4.5726e-02, -4.2585e-02,  ...,  8.4662e-02,\n",
      "          3.0979e-02, -3.9297e-02],\n",
      "        [ 4.4152e-05, -4.1773e-02, -7.4407e-02,  ..., -2.6147e-02,\n",
      "         -7.3062e-02, -6.4494e-02],\n",
      "        [-4.3303e-02,  3.8726e-02, -4.3919e-02,  ..., -1.0209e-02,\n",
      "         -4.5571e-02, -7.6796e-02]], requires_grad=True) torch.Size([256, 128])\n",
      "hidden2.bias Parameter containing:\n",
      "tensor([ 0.0782, -0.0800,  0.0584, -0.0863, -0.0538, -0.0698,  0.0463,  0.0399,\n",
      "         0.0618, -0.0809, -0.0827,  0.0061, -0.0150,  0.0410, -0.0667, -0.0564,\n",
      "         0.0572,  0.0201, -0.0255,  0.0840,  0.0469, -0.0060,  0.0713, -0.0177,\n",
      "         0.0195, -0.0528,  0.0722,  0.0210, -0.0459, -0.0252,  0.0389, -0.0050,\n",
      "        -0.0395,  0.0077, -0.0197, -0.0743, -0.0585, -0.0722,  0.0643, -0.0182,\n",
      "         0.0559, -0.0755,  0.0781, -0.0220,  0.0733,  0.0460, -0.0666,  0.0265,\n",
      "        -0.0151,  0.0673,  0.0516,  0.0294,  0.0081,  0.0672, -0.0627, -0.0567,\n",
      "        -0.0219, -0.0824,  0.0809,  0.0734, -0.0696,  0.0349,  0.0212, -0.0348,\n",
      "        -0.0584,  0.0347,  0.0188,  0.0425, -0.0373,  0.0432,  0.0853,  0.0357,\n",
      "         0.0007,  0.0600, -0.0848,  0.0193, -0.0248, -0.0827,  0.0501,  0.0073,\n",
      "         0.0361, -0.0172, -0.0360, -0.0386,  0.0345, -0.0312, -0.0877, -0.0751,\n",
      "         0.0351, -0.0830,  0.0324, -0.0429, -0.0466,  0.0363, -0.0761, -0.0709,\n",
      "        -0.0802,  0.0087, -0.0663,  0.0374, -0.0530, -0.0028, -0.0565, -0.0493,\n",
      "        -0.0698,  0.0546, -0.0307,  0.0730,  0.0324,  0.0608, -0.0882,  0.0314,\n",
      "        -0.0418,  0.0079,  0.0852,  0.0329, -0.0767,  0.0390,  0.0754, -0.0423,\n",
      "         0.0082,  0.0696, -0.0742, -0.0240, -0.0876, -0.0290,  0.0488,  0.0733,\n",
      "        -0.0286, -0.0758,  0.0427, -0.0176,  0.0218, -0.0158, -0.0152, -0.0835,\n",
      "         0.0790, -0.0780,  0.0534, -0.0448,  0.0549, -0.0550,  0.0451,  0.0005,\n",
      "         0.0829, -0.0233,  0.0455, -0.0722,  0.0844,  0.0629, -0.0009,  0.0864,\n",
      "         0.0479, -0.0415,  0.0478, -0.0269, -0.0348,  0.0833, -0.0762, -0.0842,\n",
      "         0.0405, -0.0585,  0.0352, -0.0157, -0.0265, -0.0078,  0.0081,  0.0479,\n",
      "        -0.0349, -0.0252, -0.0395, -0.0709,  0.0753,  0.0483, -0.0201,  0.0693,\n",
      "        -0.0540,  0.0661, -0.0579, -0.0104, -0.0297, -0.0413,  0.0450, -0.0211,\n",
      "        -0.0383, -0.0063,  0.0724, -0.0192, -0.0444, -0.0023,  0.0824,  0.0550,\n",
      "        -0.0857,  0.0792,  0.0779, -0.0317, -0.0344, -0.0373, -0.0215, -0.0792,\n",
      "        -0.0648,  0.0523, -0.0184,  0.0803, -0.0490, -0.0480, -0.0345, -0.0403,\n",
      "        -0.0072,  0.0748,  0.0125, -0.0708, -0.0231,  0.0536,  0.0052, -0.0551,\n",
      "        -0.0323,  0.0698, -0.0773,  0.0177,  0.0546, -0.0576, -0.0151,  0.0653,\n",
      "        -0.0125,  0.0457, -0.0196, -0.0453,  0.0134,  0.0840, -0.0816, -0.0513,\n",
      "         0.0563,  0.0093, -0.0678, -0.0051,  0.0010,  0.0368, -0.0240, -0.0514,\n",
      "         0.0841,  0.0208,  0.0578, -0.0215, -0.0465,  0.0647,  0.0122,  0.0245,\n",
      "         0.0500, -0.0295,  0.0566,  0.0628, -0.0442,  0.0757,  0.0225, -0.0572],\n",
      "       requires_grad=True) torch.Size([256])\n",
      "out.weight Parameter containing:\n",
      "tensor([[ 0.0551,  0.0479,  0.0184,  ...,  0.0024,  0.0084,  0.0551],\n",
      "        [-0.0092, -0.0242,  0.0240,  ...,  0.0570, -0.0374, -0.0580],\n",
      "        [ 0.0286,  0.0559,  0.0597,  ..., -0.0601,  0.0196,  0.0289],\n",
      "        ...,\n",
      "        [ 0.0031,  0.0284,  0.0118,  ..., -0.0095,  0.0492,  0.0187],\n",
      "        [-0.0019, -0.0251,  0.0560,  ...,  0.0211, -0.0587, -0.0450],\n",
      "        [-0.0015, -0.0244, -0.0178,  ..., -0.0109,  0.0616, -0.0412]],\n",
      "       requires_grad=True) torch.Size([10, 256])\n",
      "out.bias Parameter containing:\n",
      "tensor([ 0.0113, -0.0378,  0.0381,  0.0255,  0.0114, -0.0032,  0.0620, -0.0331,\n",
      "         0.0452,  0.0528], requires_grad=True) torch.Size([10])\n"
     ]
    }
   ],
   "source": [
    "for name, parameter in net.named_parameters():\n",
    "    print(name, parameter,parameter.size())"
   ]
  },
  {
   "cell_type": "markdown",
   "metadata": {},
   "source": [
    "### 使用TensorDataset和DataLoader来简化"
   ]
  },
  {
   "cell_type": "code",
   "execution_count": 12,
   "metadata": {
    "ExecuteTime": {
     "end_time": "2024-01-01T09:26:18.656983400Z",
     "start_time": "2024-01-01T09:26:18.611985700Z"
    }
   },
   "outputs": [],
   "source": [
    "from torch.utils.data import TensorDataset\n",
    "from torch.utils.data import DataLoader\n",
    "# 创建一个张量数据集，将输入数据 x_train 和对应的标签 y_train 组合在一起\n",
    "train_ds = TensorDataset(x_train, y_train)\n",
    "# 建一个数据加载器，用于批量加载训练数据。batch_size=bs 表示每个批次的大小为 bs，而 shuffle=True 表示在每个 epoch 开始时打乱数据。\n",
    "train_dl = DataLoader(train_ds, batch_size=bs, shuffle=True)\n",
    "\n",
    "valid_ds = TensorDataset(x_valid, y_valid)\n",
    "# 表示每个批次的大小为原始 bs 的两倍，通常验证时可以使用更大的批次大小，因为不需要进行梯度更新，只需进行前向传播和损失计算。\n",
    "valid_dl = DataLoader(valid_ds, batch_size=bs * 2)"
   ]
  },
  {
   "cell_type": "code",
   "execution_count": 13,
   "metadata": {
    "ExecuteTime": {
     "end_time": "2024-01-01T09:26:18.660985600Z",
     "start_time": "2024-01-01T09:26:18.624477100Z"
    }
   },
   "outputs": [],
   "source": [
    "def get_data(train_ds, valid_ds, bs):\n",
    "    return (\n",
    "        DataLoader(train_ds, batch_size=bs, shuffle=True),\n",
    "        DataLoader(valid_ds, batch_size=bs * 2),\n",
    "    )"
   ]
  },
  {
   "cell_type": "markdown",
   "metadata": {},
   "source": [
    "- 一般在训练模型时加上model.train()，这样会正常使用Batch Normalization和 Dropout\n",
    "- 测试的时候一般选择model.eval()，这样就不会使用Batch Normalization和 Dropout"
   ]
  },
  {
   "cell_type": "code",
   "execution_count": 19,
   "metadata": {
    "ExecuteTime": {
     "end_time": "2024-01-01T09:43:07.182243300Z",
     "start_time": "2024-01-01T09:43:07.179227700Z"
    }
   },
   "outputs": [],
   "source": [
    "import numpy as np\n",
    "\n",
    "def fit(steps, model, loss_func, opt, train_dl, valid_dl):\n",
    "    for step in range(steps):\n",
    "        # model.train() 和 model.eval()：这两个方法分别将模型设置为训练模式和评估模式。\n",
    "        # 在训练模式下，模型会启用 Dropout 等训练时特有的操作。在评估模式下，这些操作会被禁用\n",
    "        model.train()\n",
    "        for xb, yb in train_dl:\n",
    "            # 该函数用于计算并反向传播一个小批次的损失，并根据优化器 opt 更新模型参数\n",
    "            loss_batch(model, loss_func, xb, yb, opt)\n",
    "\n",
    "        model.eval()\n",
    "        # with torch.no_grad() 表示在这个上下文中，不会计算梯度，以加速计算\n",
    "        with torch.no_grad():\n",
    "            losses, nums = zip(\n",
    "                *[loss_batch(model, loss_func, xb, yb) for xb, yb in valid_dl]\n",
    "            )\n",
    "        # 计算验证集上的平均损失，其中 losses 是每个小批次的损失，nums 是相应小批次的样本数量。\n",
    "        # 计算梯度是为了在训练时进行优化，通过梯度下降等方法更新模型参数。然而，在验证集或测试集上进行推理或评估时，我们只关心模型的输出，而不需要梯度信息\n",
    "        val_loss = np.sum(np.multiply(losses, nums)) / np.sum(nums)\n",
    "        print('当前step:'+str(step), '验证集损失：'+str(val_loss))"
   ]
  },
  {
   "cell_type": "code",
   "execution_count": 15,
   "metadata": {
    "ExecuteTime": {
     "end_time": "2024-01-01T09:26:18.706336700Z",
     "start_time": "2024-01-01T09:26:18.695771300Z"
    }
   },
   "outputs": [],
   "source": [
    "from torch import optim\n",
    "def get_model():\n",
    "    model = Mnist_NN()\n",
    "    return model, optim.SGD(model.parameters(), lr=0.001)"
   ]
  },
  {
   "cell_type": "code",
   "execution_count": 16,
   "metadata": {
    "ExecuteTime": {
     "end_time": "2024-01-01T09:26:18.732992400Z",
     "start_time": "2024-01-01T09:26:18.709934600Z"
    }
   },
   "outputs": [],
   "source": [
    "def loss_batch(model, loss_func, xb, yb, opt=None):\n",
    "    loss = loss_func(model(xb), yb)\n",
    "\n",
    "    if opt is not None:\n",
    "        loss.backward()\n",
    "        opt.step()\n",
    "        opt.zero_grad()\n",
    "\n",
    "    return loss.item(), len(xb)"
   ]
  },
  {
   "cell_type": "markdown",
   "metadata": {},
   "source": [
    "### 三行搞定！"
   ]
  },
  {
   "cell_type": "code",
   "execution_count": 20,
   "metadata": {
    "ExecuteTime": {
     "end_time": "2024-01-01T09:45:07.285489100Z",
     "start_time": "2024-01-01T09:44:39.383756900Z"
    }
   },
   "outputs": [
    {
     "name": "stdout",
     "output_type": "stream",
     "text": [
      "当前step:0 验证集损失：2.278972889328003\n",
      "当前step:1 验证集损失：2.24297975692749\n",
      "当前step:2 验证集损失：2.186797924423218\n",
      "当前step:3 验证集损失：2.0977028667449953\n",
      "当前step:4 验证集损失：1.9622359336853028\n",
      "当前step:5 验证集损失：1.766799705505371\n",
      "当前step:6 验证集损失：1.5189280355453492\n",
      "当前step:7 验证集损失：1.2736075325012206\n",
      "当前step:8 验证集损失：1.0779030212402343\n",
      "当前step:9 验证集损失：0.9326140320777893\n",
      "当前step:10 验证集损失：0.8228216771125794\n",
      "当前step:11 验证集损失：0.737878849029541\n",
      "当前step:12 验证集损失：0.6712585268974304\n",
      "当前step:13 验证集损失：0.6172151280403138\n",
      "当前step:14 验证集损失：0.5739468916893006\n",
      "当前step:15 验证集损失：0.5392406108856201\n",
      "当前step:16 验证集损失：0.5099261875152588\n",
      "当前step:17 验证集损失：0.4858154431819916\n",
      "当前step:18 验证集损失：0.46539434652328493\n",
      "当前step:19 验证集损失：0.4479294186592102\n",
      "当前step:20 验证集损失：0.4335480395793915\n",
      "当前step:21 验证集损失：0.42012251300811765\n",
      "当前step:22 验证集损失：0.40861220622062683\n",
      "当前step:23 验证集损失：0.3982287415742874\n",
      "当前step:24 验证集损失：0.38958998415470125\n"
     ]
    }
   ],
   "source": [
    "train_dl, valid_dl = get_data(train_ds, valid_ds, bs)\n",
    "model, opt = get_model()\n",
    "fit(25, model, loss_func, opt, train_dl, valid_dl)"
   ]
  },
  {
   "cell_type": "code",
   "execution_count": 20,
   "metadata": {
    "collapsed": true,
    "jupyter": {
     "outputs_hidden": true
    },
    "ExecuteTime": {
     "end_time": "2024-01-01T09:45:07.286489200Z",
     "start_time": "2024-01-01T09:45:07.278967300Z"
    }
   },
   "outputs": [],
   "source": []
  }
 ],
 "metadata": {
  "kernelspec": {
   "display_name": "Python 3 (ipykernel)",
   "language": "python",
   "name": "python3"
  },
  "language_info": {
   "codemirror_mode": {
    "name": "ipython",
    "version": 3
   },
   "file_extension": ".py",
   "mimetype": "text/x-python",
   "name": "python",
   "nbconvert_exporter": "python",
   "pygments_lexer": "ipython3",
   "version": "3.11.5"
  }
 },
 "nbformat": 4,
 "nbformat_minor": 4
}
