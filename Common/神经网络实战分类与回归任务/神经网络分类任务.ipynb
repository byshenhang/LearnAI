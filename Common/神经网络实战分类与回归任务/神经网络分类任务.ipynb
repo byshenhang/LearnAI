{
 "cells": [
  {
   "cell_type": "markdown",
   "metadata": {},
   "source": [
    "### Mnist分类任务：\n",
    "\n",
    "- 网络基本构建与训练方法，常用函数解析\n",
    "\n",
    "- torch.nn.functional模块\n",
    "\n",
    "- nn.Module模块\n"
   ]
  },
  {
   "cell_type": "markdown",
   "metadata": {},
   "source": [
    "### 读取Mnist数据集\n",
    "- 会自动进行下载"
   ]
  },
  {
   "cell_type": "code",
   "execution_count": 1,
   "metadata": {},
   "outputs": [],
   "source": [
    "%matplotlib inline"
   ]
  },
  {
   "cell_type": "code",
   "execution_count": 7,
   "metadata": {},
   "outputs": [],
   "source": [
    "from pathlib import Path\n",
    "import requests\n",
    "\n",
    "DATA_PATH = Path(\"data\")\n",
    "PATH = DATA_PATH / \"mnist\"\n",
    "\n",
    "PATH.mkdir(parents=True, exist_ok=True)\n",
    "\n",
    "URL = \"http://deeplearning.net/data/mnist/\"\n",
    "FILENAME = \"mnist.pkl.gz\"\n",
    "\n",
    "if not (PATH / FILENAME).exists():\n",
    "        content = requests.get(URL + FILENAME).content\n",
    "        (PATH / FILENAME).open(\"wb\").write(content)"
   ]
  },
  {
   "cell_type": "code",
   "execution_count": 8,
   "metadata": {},
   "outputs": [],
   "source": [
    "import pickle\n",
    "import gzip\n",
    "\n",
    "with gzip.open((PATH / FILENAME).as_posix(), \"rb\") as f:\n",
    "        ((x_train, y_train), (x_valid, y_valid), _) = pickle.load(f, encoding=\"latin-1\")"
   ]
  },
  {
   "cell_type": "markdown",
   "metadata": {},
   "source": [
    "784是mnist数据集每个样本的像素点个数"
   ]
  },
  {
   "cell_type": "code",
   "execution_count": 9,
   "metadata": {},
   "outputs": [
    {
     "name": "stdout",
     "output_type": "stream",
     "text": [
      "(50000, 784)\n"
     ]
    },
    {
     "data": {
      "image/png": "[encoded data removed]",
      "text/plain": [
       "<Figure size 640x480 with 1 Axes>"
      ]
     },
     "metadata": {},
     "output_type": "display_data"
    }
   ],
   "source": [
    "from matplotlib import pyplot\n",
    "import numpy as np\n",
    "\n",
    "pyplot.imshow(x_train[0].reshape((28, 28)), cmap=\"gray\")\n",
    "print(x_train.shape)"
   ]
  },
  {
   "cell_type": "markdown",
   "metadata": {},
   "source": [
    "<img src=\"./img/4.png\" alt=\"FAO\" width=\"790\">"
   ]
  },
  {
   "cell_type": "markdown",
   "metadata": {},
   "source": [
    "<img src=\"./img/5.png\" alt=\"FAO\" width=\"790\">"
   ]
  },
  {
   "cell_type": "markdown",
   "metadata": {},
   "source": [
    "注意数据需转换成tensor才能参与后续建模训练\n"
   ]
  },
  {
   "cell_type": "code",
   "execution_count": 10,
   "metadata": {},
   "outputs": [
    {
     "name": "stdout",
     "output_type": "stream",
     "text": [
      "tensor([[0., 0., 0.,  ..., 0., 0., 0.],\n",
      "        [0., 0., 0.,  ..., 0., 0., 0.],\n",
      "        [0., 0., 0.,  ..., 0., 0., 0.],\n",
      "        ...,\n",
      "        [0., 0., 0.,  ..., 0., 0., 0.],\n",
      "        [0., 0., 0.,  ..., 0., 0., 0.],\n",
      "        [0., 0., 0.,  ..., 0., 0., 0.]]) tensor([5, 0, 4,  ..., 8, 4, 8])\n",
      "torch.Size([50000, 784])\n",
      "tensor(0) tensor(9)\n"
     ]
    }
   ],
   "source": [
    "import torch\n",
    "\n",
    "x_train, y_train, x_valid, y_valid = map(\n",
    "    torch.tensor, (x_train, y_train, x_valid, y_valid)\n",
    ")\n",
    "n, c = x_train.shape\n",
    "x_train, x_train.shape, y_train.min(), y_train.max()\n",
    "print(x_train, y_train)\n",
    "print(x_train.shape)\n",
    "print(y_train.min(), y_train.max())"
   ]
  },
  {
   "cell_type": "markdown",
   "metadata": {},
   "source": [
    "### torch.nn.functional 很多层和函数在这里都会见到\n",
    "\n",
    "torch.nn.functional中有很多功能，后续会常用的。那什么时候使用nn.Module，什么时候使用nn.functional呢？一般情况下，如果模型有可学习的参数，最好用nn.Module，其他情况nn.functional相对更简单一些"
   ]
  },
  {
   "cell_type": "code",
   "execution_count": 11,
   "metadata": {},
   "outputs": [],
   "source": [
    "import torch.nn.functional as F\n",
    "\n",
    "loss_func = F.cross_entropy\n",
    "\n",
    "def model(xb):\n",
    "    return xb.mm(weights) + bias"
   ]
  },
  {
   "cell_type": "code",
   "execution_count": 12,
   "metadata": {},
   "outputs": [
    {
     "name": "stdout",
     "output_type": "stream",
     "text": [
      "tensor(13.0505, grad_fn=<NllLossBackward0>)\n"
     ]
    }
   ],
   "source": [
    "bs = 64\n",
    "xb = x_train[0:bs]  # a mini-batch from x\n",
    "yb = y_train[0:bs]\n",
    "weights = torch.randn([784, 10], dtype = torch.float,  requires_grad = True) \n",
    "bs = 64\n",
    "bias = torch.zeros(10, requires_grad=True)\n",
    "\n",
    "print(loss_func(model(xb), yb))"
   ]
  },
  {
   "cell_type": "markdown",
   "metadata": {},
   "source": [
    "### 创建一个model来更简化代码"
   ]
  },
  {
   "cell_type": "markdown",
   "metadata": {},
   "source": [
    "- 必须继承nn.Module且在其构造函数中需调用nn.Module的构造函数\n",
    "- 无需写反向传播函数，nn.Module能够利用autograd自动实现反向传播\n",
    "- Module中的可学习参数可以通过named_parameters()或者parameters()返回迭代器"
   ]
  },
  {
   "cell_type": "code",
   "execution_count": 13,
   "metadata": {},
   "outputs": [],
   "source": [
    "from torch import nn\n",
    "\n",
    "class Mnist_NN(nn.Module):\n",
    "    def __init__(self):\n",
    "        super().__init__()\n",
    "        self.hidden1 = nn.Linear(784, 128)\n",
    "        self.hidden2 = nn.Linear(128, 256)\n",
    "        self.out  = nn.Linear(256, 10)\n",
    "\n",
    "    def forward(self, x):\n",
    "        x = F.relu(self.hidden1(x))\n",
    "        x = F.relu(self.hidden2(x))\n",
    "        x = self.out(x)\n",
    "        return x\n",
    "        "
   ]
  },
  {
   "cell_type": "code",
   "execution_count": 14,
   "metadata": {},
   "outputs": [
    {
     "name": "stdout",
     "output_type": "stream",
     "text": [
      "Mnist_NN(\n",
      "  (hidden1): Linear(in_features=784, out_features=128, bias=True)\n",
      "  (hidden2): Linear(in_features=128, out_features=256, bias=True)\n",
      "  (out): Linear(in_features=256, out_features=10, bias=True)\n",
      ")\n"
     ]
    }
   ],
   "source": [
    "net = Mnist_NN()\n",
    "print(net)\n"
   ]
  },
  {
   "cell_type": "markdown",
   "metadata": {},
   "source": [
    "可以打印我们定义好名字里的权重和偏置项"
   ]
  },
  {
   "cell_type": "code",
   "execution_count": 15,
   "metadata": {},
   "outputs": [
    {
     "name": "stdout",
     "output_type": "stream",
     "text": [
      "hidden1.weight Parameter containing:\n",
      "tensor([[ 0.0073, -0.0040, -0.0016,  ..., -0.0253,  0.0049,  0.0184],\n",
      "        [ 0.0101, -0.0173,  0.0058,  ..., -0.0264, -0.0278, -0.0024],\n",
      "        [ 0.0109, -0.0019,  0.0244,  ...,  0.0181, -0.0123,  0.0034],\n",
      "        ...,\n",
      "        [ 0.0312,  0.0180, -0.0070,  ...,  0.0245, -0.0232, -0.0129],\n",
      "        [-0.0031,  0.0301,  0.0093,  ..., -0.0200,  0.0278,  0.0189],\n",
      "        [-0.0327, -0.0008,  0.0041,  ..., -0.0070,  0.0053,  0.0213]],\n",
      "       requires_grad=True) torch.Size([128, 784])\n",
      "hidden1.bias Parameter containing:\n",
      "tensor([-0.0336,  0.0111, -0.0023, -0.0025,  0.0279,  0.0225,  0.0351, -0.0065,\n",
      "         0.0239, -0.0167, -0.0107,  0.0196, -0.0004, -0.0107,  0.0300,  0.0199,\n",
      "        -0.0210,  0.0176, -0.0152,  0.0216, -0.0264,  0.0220,  0.0338, -0.0146,\n",
      "         0.0320, -0.0117, -0.0308,  0.0354, -0.0126, -0.0354,  0.0234,  0.0289,\n",
      "        -0.0110,  0.0295, -0.0263, -0.0003,  0.0049,  0.0217, -0.0197,  0.0296,\n",
      "        -0.0208, -0.0044, -0.0209,  0.0040, -0.0113, -0.0272, -0.0119,  0.0123,\n",
      "        -0.0225,  0.0330, -0.0241,  0.0350,  0.0337,  0.0114, -0.0313,  0.0082,\n",
      "        -0.0166, -0.0318,  0.0088, -0.0273,  0.0274,  0.0060, -0.0124,  0.0210,\n",
      "         0.0250, -0.0066, -0.0298,  0.0333, -0.0008, -0.0037, -0.0127,  0.0288,\n",
      "         0.0284,  0.0205,  0.0004,  0.0083,  0.0084, -0.0355, -0.0247, -0.0007,\n",
      "        -0.0081, -0.0121, -0.0292, -0.0071, -0.0273,  0.0345,  0.0122, -0.0011,\n",
      "        -0.0231,  0.0232, -0.0340, -0.0237,  0.0102,  0.0341, -0.0206,  0.0072,\n",
      "        -0.0106, -0.0032, -0.0242,  0.0039,  0.0166, -0.0199, -0.0322, -0.0201,\n",
      "         0.0193, -0.0105, -0.0257,  0.0173,  0.0034,  0.0202, -0.0115, -0.0192,\n",
      "        -0.0072,  0.0287,  0.0095,  0.0214,  0.0003, -0.0218, -0.0119, -0.0028,\n",
      "        -0.0116, -0.0079,  0.0201, -0.0093, -0.0041,  0.0326,  0.0275, -0.0016],\n",
      "       requires_grad=True) torch.Size([128])\n",
      "hidden2.weight Parameter containing:\n",
      "tensor([[-0.0768, -0.0781, -0.0089,  ...,  0.0632,  0.0792, -0.0863],\n",
      "        [ 0.0784,  0.0061,  0.0113,  ...,  0.0036, -0.0165,  0.0004],\n",
      "        [-0.0535,  0.0362,  0.0699,  ...,  0.0466, -0.0738,  0.0594],\n",
      "        ...,\n",
      "        [ 0.0390, -0.0817,  0.0531,  ..., -0.0507,  0.0709,  0.0240],\n",
      "        [-0.0212, -0.0511, -0.0390,  ...,  0.0191, -0.0874,  0.0845],\n",
      "        [ 0.0217,  0.0002,  0.0872,  ..., -0.0175, -0.0333, -0.0153]],\n",
      "       requires_grad=True) torch.Size([256, 128])\n",
      "hidden2.bias Parameter containing:\n",
      "tensor([ 0.0845,  0.0421, -0.0427,  0.0449,  0.0213,  0.0291,  0.0308,  0.0778,\n",
      "        -0.0686,  0.0026,  0.0226,  0.0208,  0.0287, -0.0523,  0.0250, -0.0614,\n",
      "         0.0411,  0.0379, -0.0208, -0.0089, -0.0444, -0.0539,  0.0821, -0.0337,\n",
      "         0.0561, -0.0295,  0.0428, -0.0437, -0.0811, -0.0780,  0.0825, -0.0764,\n",
      "         0.0646, -0.0618,  0.0599,  0.0286,  0.0673,  0.0568,  0.0084, -0.0690,\n",
      "        -0.0698, -0.0429, -0.0250,  0.0870,  0.0216, -0.0645, -0.0192,  0.0089,\n",
      "        -0.0550,  0.0496,  0.0592,  0.0765, -0.0302,  0.0263,  0.0768,  0.0105,\n",
      "        -0.0361,  0.0135, -0.0264, -0.0621,  0.0464,  0.0705, -0.0342,  0.0495,\n",
      "         0.0855, -0.0202, -0.0145, -0.0776,  0.0764,  0.0169,  0.0326,  0.0489,\n",
      "         0.0030,  0.0196, -0.0808,  0.0834,  0.0721,  0.0246,  0.0319, -0.0228,\n",
      "        -0.0290,  0.0574,  0.0519, -0.0867,  0.0108,  0.0575, -0.0073,  0.0585,\n",
      "        -0.0707,  0.0808,  0.0773,  0.0586,  0.0070, -0.0856,  0.0518,  0.0743,\n",
      "        -0.0396, -0.0556, -0.0790,  0.0780, -0.0245,  0.0141,  0.0562,  0.0228,\n",
      "        -0.0522,  0.0613, -0.0572,  0.0878, -0.0380, -0.0465,  0.0476, -0.0597,\n",
      "         0.0130,  0.0342,  0.0353, -0.0493, -0.0204,  0.0193,  0.0022, -0.0676,\n",
      "         0.0402,  0.0356, -0.0028,  0.0607,  0.0010, -0.0640, -0.0013,  0.0550,\n",
      "         0.0425, -0.0469,  0.0116, -0.0523, -0.0223,  0.0592, -0.0685, -0.0015,\n",
      "        -0.0231,  0.0753, -0.0607,  0.0755,  0.0479,  0.0821, -0.0277,  0.0292,\n",
      "        -0.0690,  0.0242,  0.0479, -0.0504, -0.0693,  0.0470, -0.0715, -0.0263,\n",
      "         0.0276, -0.0215, -0.0812,  0.0222, -0.0277, -0.0177, -0.0325,  0.0657,\n",
      "         0.0083, -0.0436,  0.0490,  0.0287,  0.0562,  0.0078,  0.0727,  0.0861,\n",
      "         0.0720, -0.0435,  0.0703, -0.0171, -0.0810, -0.0450,  0.0279,  0.0782,\n",
      "        -0.0280,  0.0109,  0.0077,  0.0241,  0.0200, -0.0514,  0.0785, -0.0084,\n",
      "        -0.0770, -0.0442,  0.0439, -0.0573,  0.0744, -0.0734,  0.0237, -0.0421,\n",
      "        -0.0466, -0.0685,  0.0013,  0.0244,  0.0854,  0.0351, -0.0184,  0.0441,\n",
      "        -0.0637,  0.0647,  0.0714,  0.0750, -0.0365,  0.0148,  0.0610,  0.0518,\n",
      "        -0.0379, -0.0600,  0.0331,  0.0087, -0.0104,  0.0311,  0.0467,  0.0041,\n",
      "        -0.0649,  0.0297,  0.0427,  0.0833,  0.0854, -0.0521, -0.0366, -0.0596,\n",
      "         0.0581, -0.0220,  0.0030,  0.0673,  0.0271,  0.0808, -0.0653,  0.0806,\n",
      "         0.0597,  0.0789, -0.0602,  0.0120,  0.0507, -0.0398,  0.0881, -0.0602,\n",
      "        -0.0263, -0.0276,  0.0786,  0.0838, -0.0487,  0.0215, -0.0356, -0.0799,\n",
      "         0.0297,  0.0854, -0.0412, -0.0759, -0.0088,  0.0564, -0.0229, -0.0207],\n",
      "       requires_grad=True) torch.Size([256])\n",
      "out.weight Parameter containing:\n",
      "tensor([[ 0.0435, -0.0316,  0.0144,  ...,  0.0495,  0.0039, -0.0099],\n",
      "        [ 0.0005, -0.0586,  0.0397,  ..., -0.0291, -0.0419,  0.0497],\n",
      "        [ 0.0004,  0.0237,  0.0087,  ...,  0.0238,  0.0153, -0.0195],\n",
      "        ...,\n",
      "        [-0.0268,  0.0188,  0.0156,  ...,  0.0272, -0.0171, -0.0621],\n",
      "        [-0.0161,  0.0370, -0.0496,  ..., -0.0296, -0.0484, -0.0384],\n",
      "        [-0.0107,  0.0595, -0.0222,  ...,  0.0355,  0.0196, -0.0248]],\n",
      "       requires_grad=True) torch.Size([10, 256])\n",
      "out.bias Parameter containing:\n",
      "tensor([-0.0239, -0.0129, -0.0243,  0.0557, -0.0212,  0.0181, -0.0622, -0.0611,\n",
      "        -0.0451, -0.0381], requires_grad=True) torch.Size([10])\n"
     ]
    }
   ],
   "source": [
    "for name, parameter in net.named_parameters():\n",
    "    print(name, parameter,parameter.size())"
   ]
  },
  {
   "cell_type": "markdown",
   "metadata": {},
   "source": [
    "### 使用TensorDataset和DataLoader来简化"
   ]
  },
  {
   "cell_type": "code",
   "execution_count": 16,
   "metadata": {},
   "outputs": [],
   "source": [
    "from torch.utils.data import TensorDataset\n",
    "from torch.utils.data import DataLoader\n",
    "\n",
    "train_ds = TensorDataset(x_train, y_train)\n",
    "train_dl = DataLoader(train_ds, batch_size=bs, shuffle=True)\n",
    "\n",
    "valid_ds = TensorDataset(x_valid, y_valid)\n",
    "valid_dl = DataLoader(valid_ds, batch_size=bs * 2)"
   ]
  },
  {
   "cell_type": "code",
   "execution_count": 21,
   "metadata": {},
   "outputs": [],
   "source": [
    "def get_data(train_ds, valid_ds, bs):\n",
    "    return (\n",
    "        DataLoader(train_ds, batch_size=bs, shuffle=True),\n",
    "        DataLoader(valid_ds, batch_size=bs * 2),\n",
    "    )"
   ]
  },
  {
   "cell_type": "markdown",
   "metadata": {},
   "source": [
    "- 一般在训练模型时加上model.train()，这样会正常使用Batch Normalization和 Dropout\n",
    "- 测试的时候一般选择model.eval()，这样就不会使用Batch Normalization和 Dropout"
   ]
  },
  {
   "cell_type": "code",
   "execution_count": 22,
   "metadata": {},
   "outputs": [],
   "source": [
    "import numpy as np\n",
    "\n",
    "def fit(steps, model, loss_func, opt, train_dl, valid_dl):\n",
    "    for step in range(steps):\n",
    "        model.train()\n",
    "        for xb, yb in train_dl:\n",
    "            loss_batch(model, loss_func, xb, yb, opt)\n",
    "\n",
    "        model.eval()\n",
    "        with torch.no_grad():\n",
    "            losses, nums = zip(\n",
    "                *[loss_batch(model, loss_func, xb, yb) for xb, yb in valid_dl]\n",
    "            )\n",
    "        val_loss = np.sum(np.multiply(losses, nums)) / np.sum(nums)\n",
    "        print('当前step:'+str(step), '验证集损失：'+str(val_loss))"
   ]
  },
  {
   "cell_type": "code",
   "execution_count": 23,
   "metadata": {},
   "outputs": [],
   "source": [
    "from torch import optim\n",
    "def get_model():\n",
    "    model = Mnist_NN()\n",
    "    return model, optim.SGD(model.parameters(), lr=0.001)"
   ]
  },
  {
   "cell_type": "code",
   "execution_count": 24,
   "metadata": {},
   "outputs": [],
   "source": [
    "def loss_batch(model, loss_func, xb, yb, opt=None):\n",
    "    loss = loss_func(model(xb), yb)\n",
    "\n",
    "    if opt is not None:\n",
    "        loss.backward()\n",
    "        opt.step()\n",
    "        opt.zero_grad()\n",
    "\n",
    "    return loss.item(), len(xb)"
   ]
  },
  {
   "cell_type": "markdown",
   "metadata": {},
   "source": [
    "### 三行搞定！"
   ]
  },
  {
   "cell_type": "code",
   "execution_count": 25,
   "metadata": {},
   "outputs": [
    {
     "name": "stdout",
     "output_type": "stream",
     "text": [
      "当前step:0 验证集损失：2.283118695831299\n",
      "当前step:1 验证集损失：2.25359355506897\n",
      "当前step:2 验证集损失：2.2086075176239013\n",
      "当前step:3 验证集损失：2.1354423095703123\n",
      "当前step:4 验证集损失：2.0143635040283203\n",
      "当前step:5 验证集损失：1.828464266014099\n",
      "当前step:6 验证集损失：1.5865922132492065\n",
      "当前step:7 验证集损失：1.3324083190917968\n",
      "当前step:8 验证集损失：1.110281449317932\n",
      "当前step:9 验证集损失：0.9390457849502564\n",
      "当前step:10 验证集损失：0.8144129425048828\n",
      "当前step:11 验证集损失：0.7231290536880494\n",
      "当前step:12 验证集损失：0.6557546762466431\n",
      "当前step:13 验证集损失：0.6037429720878601\n",
      "当前step:14 验证集损失：0.5628581903457641\n",
      "当前step:15 验证集损失：0.5302916748046875\n",
      "当前step:16 验证集损失：0.50295899310112\n",
      "当前step:17 验证集损失：0.4809439615249634\n",
      "当前step:18 验证集损失：0.46165140414237976\n",
      "当前step:19 验证集损失：0.44518498268127443\n",
      "当前step:20 验证集损失：0.43110580463409426\n",
      "当前step:21 验证集损失：0.41848768486976623\n",
      "当前step:22 验证集损失：0.40772267808914187\n",
      "当前step:23 验证集损失：0.3981079013824463\n",
      "当前step:24 验证集损失：0.38918088579177856\n"
     ]
    }
   ],
   "source": [
    "train_dl, valid_dl = get_data(train_ds, valid_ds, bs)\n",
    "model, opt = get_model()\n",
    "fit(25, model, loss_func, opt, train_dl, valid_dl)"
   ]
  },
  {
   "cell_type": "code",
   "execution_count": null,
   "metadata": {
    "collapsed": true,
    "jupyter": {
     "outputs_hidden": true
    }
   },
   "outputs": [],
   "source": []
  },
  {
   "cell_type": "code",
   "execution_count": null,
   "metadata": {},
   "outputs": [],
   "source": []
  }
 ],
 "metadata": {
  "kernelspec": {
   "display_name": "Python 3 (ipykernel)",
   "language": "python",
   "name": "python3"
  },
  "language_info": {
   "codemirror_mode": {
    "name": "ipython",
    "version": 3
   },
   "file_extension": ".py",
   "mimetype": "text/x-python",
   "name": "python",
   "nbconvert_exporter": "python",
   "pygments_lexer": "ipython3",
   "version": "3.11.5"
  }
 },
 "nbformat": 4,
 "nbformat_minor": 4
}
