{
 "cells": [
  {
   "cell_type": "markdown",
   "metadata": {},
   "source": [
    "### 构建卷积神经网络\n",
    "- 卷积网络中的输入和层与传统神经网络有些区别，需重新设计，训练模块基本一致"
   ]
  },
  {
   "cell_type": "code",
   "execution_count": 2,
   "metadata": {
    "ExecuteTime": {
     "end_time": "2024-01-01T10:38:21.836843500Z",
     "start_time": "2024-01-01T10:38:18.559021500Z"
    }
   },
   "outputs": [],
   "source": [
    "import torch\n",
    "import torch.nn as nn\n",
    "import torch.optim as optim\n",
    "import torch.nn.functional as F\n",
    "from torchvision import datasets,transforms \n",
    "import matplotlib.pyplot as plt\n",
    "import numpy as np\n",
    "%matplotlib inline"
   ]
  },
  {
   "cell_type": "markdown",
   "metadata": {},
   "source": [
    "### 首先读取数据\n",
    "- 分别构建训练集和测试集（验证集）\n",
    "- DataLoader来迭代取数据"
   ]
  },
  {
   "cell_type": "code",
   "execution_count": 3,
   "metadata": {
    "collapsed": true,
    "ExecuteTime": {
     "end_time": "2024-01-01T10:38:22.257101100Z",
     "start_time": "2024-01-01T10:38:21.838843600Z"
    }
   },
   "outputs": [],
   "source": [
    "# 定义超参数 \n",
    "input_size = 28  #图像的总尺寸28*28\n",
    "num_classes = 10  #标签的种类数\n",
    "num_epochs = 3  #训练的总循环周期\n",
    "batch_size = 64  #一个撮（批次）的大小，64张图片\n",
    "\n",
    "# 训练集\n",
    "train_dataset = datasets.MNIST(root='./data',  \n",
    "                            train=True,   \n",
    "                            transform=transforms.ToTensor(),  \n",
    "                            download=True) \n",
    "\n",
    "# 测试集\n",
    "test_dataset = datasets.MNIST(root='./data', \n",
    "                           train=False, \n",
    "                           transform=transforms.ToTensor())\n",
    "\n",
    "# 构建batch数据\n",
    "train_loader = torch.utils.data.DataLoader(dataset=train_dataset, \n",
    "                                           batch_size=batch_size, \n",
    "                                           shuffle=True)\n",
    "test_loader = torch.utils.data.DataLoader(dataset=test_dataset, \n",
    "                                           batch_size=batch_size, \n",
    "                                           shuffle=True)"
   ]
  },
  {
   "cell_type": "markdown",
   "metadata": {},
   "source": [
    "### 卷积网络模块构建\n",
    "- 一般卷积层，relu层，池化层可以写成一个套餐\n",
    "- 注意卷积最后结果还是一个特征图，需要把图转换成向量才能做分类或者回归任务"
   ]
  },
  {
   "cell_type": "code",
   "execution_count": 4,
   "metadata": {
    "collapsed": true,
    "ExecuteTime": {
     "end_time": "2024-01-01T10:38:22.266382700Z",
     "start_time": "2024-01-01T10:38:22.261874400Z"
    }
   },
   "outputs": [],
   "source": [
    "class CNN(nn.Module):\n",
    "    def __init__(self):\n",
    "        super(CNN, self).__init__()\n",
    "        self.conv1 = nn.Sequential(         # 输入大小 (1, 28, 28)\n",
    "            nn.Conv2d(\n",
    "                in_channels=1,              # 灰度图\n",
    "                out_channels=16,            # 要得到几多少个特征图\n",
    "                kernel_size=5,              # 卷积核大小\n",
    "                stride=1,                   # 步长\n",
    "                padding=2,                  # 如果希望卷积后大小跟原来一样，需要设置padding=(kernel_size-1)/2 if stride=1\n",
    "            ),                              # 输出的特征图为 (16, 28, 28)\n",
    "            nn.ReLU(),                      # relu层\n",
    "            nn.MaxPool2d(kernel_size=2),    # 进行池化操作（2x2 区域）, 输出结果为： (16, 14, 14)\n",
    "        )\n",
    "        self.conv2 = nn.Sequential(         # 下一个套餐的输入 (16, 14, 14)\n",
    "            nn.Conv2d(16, 32, 5, 1, 2),     # 输出 (32, 14, 14)\n",
    "            nn.ReLU(),                      # relu层\n",
    "            nn.Conv2d(32, 32, 5, 1, 2),\n",
    "            nn.ReLU(),\n",
    "            nn.MaxPool2d(2),                # 输出 (32, 7, 7)\n",
    "        )\n",
    "        \n",
    "        self.conv3 = nn.Sequential(         # 下一个套餐的输入 (16, 14, 14)\n",
    "            nn.Conv2d(32, 64, 5, 1, 2),     # 输出 (32, 14, 14)\n",
    "            nn.ReLU(),             # 输出 (32, 7, 7)\n",
    "        )\n",
    "        \n",
    "        self.out = nn.Linear(64 * 7 * 7, 10)   # 全连接层得到的结果\n",
    "\n",
    "    def forward(self, x):\n",
    "        x = self.conv1(x)\n",
    "        x = self.conv2(x)\n",
    "        x = self.conv3(x)\n",
    "        #  将张量 x 从多维形状变换为一个二维形状，其中第一个维度是 batch_size，而第二个维度是 -1。 -1 的意思是根据张量的总元素数自动计算该位置的维度，以保持原有元素数不变。\n",
    "        # 在这里，x.size(0) 表示 batch_size，因此该操作将每个样本的特征张量展平为一维向量，保持批次大小不变。具体地，由于之前的卷积和池化操作，x 的形状是 (batch_size, 64, 7, 7)，通过 view \n",
    "        # 作后，形状变为 (batch_size, 64 * 7 * 7)，即每个样本的特征被展平为一个长度为 64 * 7 * 7 的一维向量。\n",
    "        # 这种形状变换通常在卷积神经网络的卷积层之后、全连接层之前使用，以适应全连接层的输入要求，因为全连接层需要一维的输入。\n",
    "        x = x.view(x.size(0), -1)           # flatten操作，结果为：(batch_size, 32 * 7 * 7)\n",
    "        output = self.out(x)\n",
    "        return output"
   ]
  },
  {
   "cell_type": "markdown",
   "metadata": {},
   "source": [
    "### 准确率作为评估标准"
   ]
  },
  {
   "cell_type": "code",
   "execution_count": 5,
   "metadata": {
    "collapsed": true,
    "ExecuteTime": {
     "end_time": "2024-01-01T10:38:22.275324800Z",
     "start_time": "2024-01-01T10:38:22.264382800Z"
    }
   },
   "outputs": [],
   "source": [
    "def accuracy(predictions, labels):\n",
    "    # torch.max 函数用于在指定维度上返回最大值。\n",
    "    # predictions.data 提取模型的预测值的数据部分。\n",
    "    # 1 表示沿着第一个维度（通常是列）寻找最大值，即对每个样本找到具有最大值的类别。\n",
    "    # 返回的结果包含两个张量：最大值的张量和最大值所在的索引张量。\n",
    "    pred = torch.max(predictions.data, 1)[1] \n",
    "    # 对预测的类别标签与真实标签进行逐元素比较，生成一个布尔值张量，相等的位置为 True，不相等的位置为 False。\n",
    "    # sum() 对布尔值张量求和，得到相等的数量。这表示模型正确预测的样本数量\n",
    "    rights = pred.eq(labels.data.view_as(pred)).sum() \n",
    "    # rights 是正确预测的样本数量。\n",
    "    # len(labels) 是总样本数量。\n",
    "    return rights, len(labels) "
   ]
  },
  {
   "cell_type": "markdown",
   "metadata": {},
   "source": [
    "### 训练网络模型"
   ]
  },
  {
   "cell_type": "code",
   "execution_count": 6,
   "metadata": {
    "ExecuteTime": {
     "end_time": "2024-01-01T10:40:07.757089200Z",
     "start_time": "2024-01-01T10:38:22.271193100Z"
    }
   },
   "outputs": [
    {
     "name": "stdout",
     "output_type": "stream",
     "text": [
      "当前epoch: 0 [0/60000 (0%)]\t损失: 2.303364\t训练集准确率: 9.38%\t测试集正确率: 10.09%\n",
      "当前epoch: 0 [6400/60000 (11%)]\t损失: 0.250181\t训练集准确率: 76.95%\t测试集正确率: 92.50%\n",
      "当前epoch: 0 [12800/60000 (21%)]\t损失: 0.078053\t训练集准确率: 85.70%\t测试集正确率: 95.46%\n",
      "当前epoch: 0 [19200/60000 (32%)]\t损失: 0.135206\t训练集准确率: 89.17%\t测试集正确率: 97.29%\n",
      "当前epoch: 0 [25600/60000 (43%)]\t损失: 0.142493\t训练集准确率: 91.07%\t测试集正确率: 97.79%\n",
      "当前epoch: 0 [32000/60000 (53%)]\t损失: 0.059492\t训练集准确率: 92.36%\t测试集正确率: 97.91%\n",
      "当前epoch: 0 [38400/60000 (64%)]\t损失: 0.069894\t训练集准确率: 93.21%\t测试集正确率: 98.23%\n",
      "当前epoch: 0 [44800/60000 (75%)]\t损失: 0.017419\t训练集准确率: 93.90%\t测试集正确率: 98.25%\n",
      "当前epoch: 0 [51200/60000 (85%)]\t损失: 0.060239\t训练集准确率: 94.41%\t测试集正确率: 98.62%\n",
      "当前epoch: 0 [57600/60000 (96%)]\t损失: 0.095850\t训练集准确率: 94.86%\t测试集正确率: 98.33%\n",
      "当前epoch: 1 [0/60000 (0%)]\t损失: 0.046640\t训练集准确率: 98.44%\t测试集正确率: 98.18%\n",
      "当前epoch: 1 [6400/60000 (11%)]\t损失: 0.009855\t训练集准确率: 98.14%\t测试集正确率: 98.65%\n",
      "当前epoch: 1 [12800/60000 (21%)]\t损失: 0.017181\t训练集准确率: 98.40%\t测试集正确率: 98.46%\n",
      "当前epoch: 1 [19200/60000 (32%)]\t损失: 0.092074\t训练集准确率: 98.47%\t测试集正确率: 98.64%\n",
      "当前epoch: 1 [25600/60000 (43%)]\t损失: 0.031264\t训练集准确率: 98.50%\t测试集正确率: 98.71%\n",
      "当前epoch: 1 [32000/60000 (53%)]\t损失: 0.011898\t训练集准确率: 98.52%\t测试集正确率: 98.83%\n",
      "当前epoch: 1 [38400/60000 (64%)]\t损失: 0.010246\t训练集准确率: 98.55%\t测试集正确率: 98.92%\n",
      "当前epoch: 1 [44800/60000 (75%)]\t损失: 0.004767\t训练集准确率: 98.58%\t测试集正确率: 98.82%\n",
      "当前epoch: 1 [51200/60000 (85%)]\t损失: 0.093269\t训练集准确率: 98.61%\t测试集正确率: 98.94%\n",
      "当前epoch: 1 [57600/60000 (96%)]\t损失: 0.021370\t训练集准确率: 98.62%\t测试集正确率: 98.93%\n",
      "当前epoch: 2 [0/60000 (0%)]\t损失: 0.016828\t训练集准确率: 98.44%\t测试集正确率: 99.06%\n",
      "当前epoch: 2 [6400/60000 (11%)]\t损失: 0.021996\t训练集准确率: 98.69%\t测试集正确率: 98.94%\n",
      "当前epoch: 2 [12800/60000 (21%)]\t损失: 0.006018\t训练集准确率: 98.84%\t测试集正确率: 98.86%\n",
      "当前epoch: 2 [19200/60000 (32%)]\t损失: 0.065797\t训练集准确率: 98.90%\t测试集正确率: 99.06%\n",
      "当前epoch: 2 [25600/60000 (43%)]\t损失: 0.003329\t训练集准确率: 98.94%\t测试集正确率: 99.13%\n",
      "当前epoch: 2 [32000/60000 (53%)]\t损失: 0.013702\t训练集准确率: 98.95%\t测试集正确率: 98.81%\n",
      "当前epoch: 2 [38400/60000 (64%)]\t损失: 0.005661\t训练集准确率: 98.95%\t测试集正确率: 98.99%\n",
      "当前epoch: 2 [44800/60000 (75%)]\t损失: 0.015327\t训练集准确率: 98.96%\t测试集正确率: 99.07%\n",
      "当前epoch: 2 [51200/60000 (85%)]\t损失: 0.166272\t训练集准确率: 98.98%\t测试集正确率: 98.89%\n",
      "当前epoch: 2 [57600/60000 (96%)]\t损失: 0.021945\t训练集准确率: 98.98%\t测试集正确率: 99.11%\n"
     ]
    }
   ],
   "source": [
    "# 实例化\n",
    "net = CNN() \n",
    "#损失函数\n",
    "criterion = nn.CrossEntropyLoss() \n",
    "#优化器\n",
    "optimizer = optim.Adam(net.parameters(), lr=0.001) #定义优化器，普通的随机梯度下降算法\n",
    "\n",
    "#开始训练循环\n",
    "for epoch in range(num_epochs):\n",
    "    #当前epoch的结果保存下来\n",
    "    train_rights = [] \n",
    "    \n",
    "    for batch_idx, (data, target) in enumerate(train_loader):  #针对容器中的每一个批进行循环\n",
    "        net.train()                             \n",
    "        output = net(data) \n",
    "        loss = criterion(output, target) \n",
    "        optimizer.zero_grad() \n",
    "        loss.backward() \n",
    "        optimizer.step() \n",
    "        right = accuracy(output, target) \n",
    "        train_rights.append(right) \n",
    "\n",
    "    \n",
    "        if batch_idx % 100 == 0: \n",
    "            \n",
    "            net.eval() \n",
    "            val_rights = [] \n",
    "            \n",
    "            for (data, target) in test_loader:\n",
    "                output = net(data) \n",
    "                right = accuracy(output, target) \n",
    "                val_rights.append(right)\n",
    "                \n",
    "            #准确率计算\n",
    "            train_r = (sum([tup[0] for tup in train_rights]), sum([tup[1] for tup in train_rights]))\n",
    "            val_r = (sum([tup[0] for tup in val_rights]), sum([tup[1] for tup in val_rights]))\n",
    "\n",
    "            print('当前epoch: {} [{}/{} ({:.0f}%)]\\t损失: {:.6f}\\t训练集准确率: {:.2f}%\\t测试集正确率: {:.2f}%'.format(\n",
    "                epoch, batch_idx * batch_size, len(train_loader.dataset),\n",
    "                100. * batch_idx / len(train_loader), \n",
    "                loss.data, \n",
    "                100. * train_r[0].numpy() / train_r[1], \n",
    "                100. * val_r[0].numpy() / val_r[1]))"
   ]
  },
  {
   "cell_type": "markdown",
   "metadata": {
    "collapsed": true
   },
   "source": [
    "### 练习\n",
    "- 再加入一层卷积，效果怎么样？\n",
    "- 当前任务中为什么全连接层是32*7*7 其中每一个数字代表什么含义"
   ]
  },
  {
   "cell_type": "code",
   "execution_count": 6,
   "metadata": {
    "collapsed": true,
    "ExecuteTime": {
     "end_time": "2024-01-01T10:40:07.766105900Z",
     "start_time": "2024-01-01T10:40:07.757089200Z"
    }
   },
   "outputs": [],
   "source": []
  },
  {
   "cell_type": "code",
   "execution_count": 6,
   "metadata": {
    "collapsed": true,
    "ExecuteTime": {
     "end_time": "2024-01-01T10:40:07.766105900Z",
     "start_time": "2024-01-01T10:40:07.760103800Z"
    }
   },
   "outputs": [],
   "source": []
  }
 ],
 "metadata": {
  "kernelspec": {
   "display_name": "Python 3",
   "language": "python",
   "name": "python3"
  },
  "language_info": {
   "codemirror_mode": {
    "name": "ipython",
    "version": 3
   },
   "file_extension": ".py",
   "mimetype": "text/x-python",
   "name": "python",
   "nbconvert_exporter": "python",
   "pygments_lexer": "ipython3",
   "version": "3.6.3"
  }
 },
 "nbformat": 4,
 "nbformat_minor": 2
}
