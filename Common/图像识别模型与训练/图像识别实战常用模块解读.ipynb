{
 "cells": [
  {
   "cell_type": "markdown",
   "metadata": {},
   "source": [
    "# 基于经典网络架构训练图像分类模型"
   ]
  },
  {
   "cell_type": "markdown",
   "metadata": {},
   "source": [
    "### 数据预处理部分：\n",
    "\n",
    "- 数据增强：torchvision中transforms模块自带功能，比较实用\n",
    "- 数据预处理：torchvision中transforms也帮我们实现好了，直接调用即可\n",
    "- DataLoader模块直接读取batch数据\n",
    "\n",
    "### 网络模块设置：\n",
    "\n",
    "- 加载预训练模型，torchvision中有很多经典网络架构，调用起来十分方便，并且可以用人家训练好的权重参数来继续训练，也就是所谓的迁移学习\n",
    "- 需要注意的是别人训练好的任务跟咱们的可不是完全一样，需要把最后的head层改一改，一般也就是最后的全连接层，改成咱们自己的任务\n",
    "- 训练时可以全部重头训练，也可以只训练最后咱们任务的层，因为前几层都是做特征提取的，本质任务目标是一致的\n",
    "\n",
    "### 网络模型保存与测试\n",
    "- 模型保存的时候可以带有选择性，例如在验证集中如果当前效果好则保存\n",
    "- 读取模型进行实际测试\n",
    "\n",
    "![title](1.png)"
   ]
  },
  {
   "cell_type": "code",
   "execution_count": 1,
   "metadata": {
    "colab": {
     "base_uri": "https://localhost:8080/",
     "height": 530
    },
    "colab_type": "code",
    "id": "Qqk2lCKzYf-y",
    "outputId": "2354909a-d734-4dd8-e887-eb5373d9127e",
    "ExecuteTime": {
     "end_time": "2024-01-03T14:48:44.365539600Z",
     "start_time": "2024-01-03T14:48:41.676612500Z"
    }
   },
   "outputs": [],
   "source": [
    "import os\n",
    "import matplotlib.pyplot as plt\n",
    "%matplotlib inline\n",
    "import numpy as np\n",
    "import torch\n",
    "from torch import nn\n",
    "import torch.optim as optim\n",
    "import torchvision\n",
    "#pip install torchvision\n",
    "from torchvision import transforms, models, datasets\n",
    "#https://pytorch.org/docs/stable/torchvision/index.html\n",
    "import imageio\n",
    "import time\n",
    "import warnings\n",
    "warnings.filterwarnings(\"ignore\")\n",
    "import random\n",
    "import sys\n",
    "import copy\n",
    "import json\n",
    "from PIL import Image"
   ]
  },
  {
   "cell_type": "markdown",
   "metadata": {
    "colab_type": "text",
    "id": "Wa2qCaSOd9_J"
   },
   "source": [
    "### 数据读取与预处理操作"
   ]
  },
  {
   "cell_type": "code",
   "execution_count": 2,
   "metadata": {
    "colab": {},
    "colab_type": "code",
    "collapsed": true,
    "id": "S2lHfvKMd9_J",
    "ExecuteTime": {
     "end_time": "2024-01-03T14:48:44.367035300Z",
     "start_time": "2024-01-03T14:48:44.354978500Z"
    }
   },
   "outputs": [],
   "source": [
    "data_dir = './flower_data/'\n",
    "train_dir = data_dir + '/train'\n",
    "valid_dir = data_dir + '/valid'"
   ]
  },
  {
   "cell_type": "markdown",
   "metadata": {},
   "source": [
    "### 制作好数据源：\n",
    "- data_transforms中指定了所有图像预处理操作\n",
    "- ImageFolder假设所有的文件按文件夹保存好，每个文件夹下面存贮同一类别的图片，文件夹的名字为分类的名字"
   ]
  },
  {
   "cell_type": "code",
   "execution_count": 3,
   "metadata": {
    "colab": {},
    "colab_type": "code",
    "id": "5y6IxsmtQ0hR",
    "ExecuteTime": {
     "end_time": "2024-01-03T14:48:44.367035300Z",
     "start_time": "2024-01-03T14:48:44.359978100Z"
    }
   },
   "outputs": [],
   "source": [
    "data_transforms = {\n",
    "    'train': \n",
    "        transforms.Compose([\n",
    "        transforms.Resize([96, 96]),\n",
    "        transforms.RandomRotation(45),#随机旋转，-45到45度之间随机选\n",
    "        transforms.CenterCrop(64),#从中心开始裁剪\n",
    "        transforms.RandomHorizontalFlip(p=0.5),#随机水平翻转 选择一个概率概率\n",
    "        transforms.RandomVerticalFlip(p=0.5),#随机垂直翻转\n",
    "        transforms.ColorJitter(brightness=0.2, contrast=0.1, saturation=0.1, hue=0.1),#参数1为亮度，参数2为对比度，参数3为饱和度，参数4为色相\n",
    "        transforms.RandomGrayscale(p=0.025),#概率转换成灰度率，3通道就是R=G=B\n",
    "        transforms.ToTensor(),\n",
    "        transforms.Normalize([0.485, 0.456, 0.406], [0.229, 0.224, 0.225])#均值，标准差\n",
    "    ]),\n",
    "    'valid': \n",
    "        transforms.Compose([\n",
    "        transforms.Resize([64, 64]),\n",
    "        transforms.ToTensor(),\n",
    "        transforms.Normalize([0.485, 0.456, 0.406], [0.229, 0.224, 0.225])\n",
    "    ]),\n",
    "}"
   ]
  },
  {
   "cell_type": "code",
   "execution_count": 4,
   "metadata": {
    "colab": {},
    "colab_type": "code",
    "id": "ebneIHSWP74J",
    "ExecuteTime": {
     "end_time": "2024-01-03T14:48:44.404917800Z",
     "start_time": "2024-01-03T14:48:44.364540700Z"
    }
   },
   "outputs": [],
   "source": [
    "batch_size = 128\n",
    "\n",
    "image_datasets = {x: datasets.ImageFolder(os.path.join(data_dir, x), data_transforms[x]) for x in ['train', 'valid']}\n",
    "dataloaders = {x: torch.utils.data.DataLoader(image_datasets[x], batch_size=batch_size, shuffle=True) for x in ['train', 'valid']}\n",
    "dataset_sizes = {x: len(image_datasets[x]) for x in ['train', 'valid']}\n",
    "class_names = image_datasets['train'].classes"
   ]
  },
  {
   "cell_type": "code",
   "execution_count": 5,
   "metadata": {
    "ExecuteTime": {
     "end_time": "2024-01-03T14:48:44.423713500Z",
     "start_time": "2024-01-03T14:48:44.404917800Z"
    }
   },
   "outputs": [
    {
     "data": {
      "text/plain": "{'train': Dataset ImageFolder\n     Number of datapoints: 6552\n     Root location: ./flower_data/train\n     StandardTransform\n Transform: Compose(\n                Resize(size=[96, 96], interpolation=bilinear, max_size=None, antialias=warn)\n                RandomRotation(degrees=[-45.0, 45.0], interpolation=nearest, expand=False, fill=0)\n                CenterCrop(size=(64, 64))\n                RandomHorizontalFlip(p=0.5)\n                RandomVerticalFlip(p=0.5)\n                ColorJitter(brightness=(0.8, 1.2), contrast=(0.9, 1.1), saturation=(0.9, 1.1), hue=(-0.1, 0.1))\n                RandomGrayscale(p=0.025)\n                ToTensor()\n                Normalize(mean=[0.485, 0.456, 0.406], std=[0.229, 0.224, 0.225])\n            ),\n 'valid': Dataset ImageFolder\n     Number of datapoints: 818\n     Root location: ./flower_data/valid\n     StandardTransform\n Transform: Compose(\n                Resize(size=[64, 64], interpolation=bilinear, max_size=None, antialias=warn)\n                ToTensor()\n                Normalize(mean=[0.485, 0.456, 0.406], std=[0.229, 0.224, 0.225])\n            )}"
     },
     "execution_count": 5,
     "metadata": {},
     "output_type": "execute_result"
    }
   ],
   "source": [
    "image_datasets"
   ]
  },
  {
   "cell_type": "code",
   "execution_count": 6,
   "metadata": {
    "ExecuteTime": {
     "end_time": "2024-01-03T14:48:44.425720800Z",
     "start_time": "2024-01-03T14:48:44.408936Z"
    }
   },
   "outputs": [
    {
     "data": {
      "text/plain": "{'train': <torch.utils.data.dataloader.DataLoader at 0x2370c633490>,\n 'valid': <torch.utils.data.dataloader.DataLoader at 0x2370c4fff50>}"
     },
     "execution_count": 6,
     "metadata": {},
     "output_type": "execute_result"
    }
   ],
   "source": [
    "dataloaders"
   ]
  },
  {
   "cell_type": "code",
   "execution_count": 7,
   "metadata": {
    "ExecuteTime": {
     "end_time": "2024-01-03T14:48:44.426718Z",
     "start_time": "2024-01-03T14:48:44.412781900Z"
    }
   },
   "outputs": [
    {
     "data": {
      "text/plain": "{'train': 6552, 'valid': 818}"
     },
     "execution_count": 7,
     "metadata": {},
     "output_type": "execute_result"
    }
   ],
   "source": [
    "dataset_sizes"
   ]
  },
  {
   "cell_type": "markdown",
   "metadata": {
    "colab_type": "text",
    "id": "8JvBFT6qd9_M"
   },
   "source": [
    "### 读取标签对应的实际名字"
   ]
  },
  {
   "cell_type": "code",
   "execution_count": 8,
   "metadata": {
    "colab": {},
    "colab_type": "code",
    "collapsed": true,
    "id": "YlHjfyDRd9_N",
    "ExecuteTime": {
     "end_time": "2024-01-03T14:48:44.427220400Z",
     "start_time": "2024-01-03T14:48:44.417485400Z"
    }
   },
   "outputs": [],
   "source": [
    "with open('cat_to_name.json', 'r') as f:\n",
    "    cat_to_name = json.load(f)"
   ]
  },
  {
   "cell_type": "code",
   "execution_count": 9,
   "metadata": {
    "colab": {
     "base_uri": "https://localhost:8080/",
     "height": 1751
    },
    "colab_type": "code",
    "id": "SiPBCbEpqX8P",
    "outputId": "0bbdec1b-65bc-4999-9e43-4b448c979cb8",
    "ExecuteTime": {
     "end_time": "2024-01-03T14:48:44.430214300Z",
     "start_time": "2024-01-03T14:48:44.420563100Z"
    }
   },
   "outputs": [
    {
     "data": {
      "text/plain": "{'21': 'fire lily',\n '3': 'canterbury bells',\n '45': 'bolero deep blue',\n '1': 'pink primrose',\n '34': 'mexican aster',\n '27': 'prince of wales feathers',\n '7': 'moon orchid',\n '16': 'globe-flower',\n '25': 'grape hyacinth',\n '26': 'corn poppy',\n '79': 'toad lily',\n '39': 'siam tulip',\n '24': 'red ginger',\n '67': 'spring crocus',\n '35': 'alpine sea holly',\n '32': 'garden phlox',\n '10': 'globe thistle',\n '6': 'tiger lily',\n '93': 'ball moss',\n '33': 'love in the mist',\n '9': 'monkshood',\n '102': 'blackberry lily',\n '14': 'spear thistle',\n '19': 'balloon flower',\n '100': 'blanket flower',\n '13': 'king protea',\n '49': 'oxeye daisy',\n '15': 'yellow iris',\n '61': 'cautleya spicata',\n '31': 'carnation',\n '64': 'silverbush',\n '68': 'bearded iris',\n '63': 'black-eyed susan',\n '69': 'windflower',\n '62': 'japanese anemone',\n '20': 'giant white arum lily',\n '38': 'great masterwort',\n '4': 'sweet pea',\n '86': 'tree mallow',\n '101': 'trumpet creeper',\n '42': 'daffodil',\n '22': 'pincushion flower',\n '2': 'hard-leaved pocket orchid',\n '54': 'sunflower',\n '66': 'osteospermum',\n '70': 'tree poppy',\n '85': 'desert-rose',\n '99': 'bromelia',\n '87': 'magnolia',\n '5': 'english marigold',\n '92': 'bee balm',\n '28': 'stemless gentian',\n '97': 'mallow',\n '57': 'gaura',\n '40': 'lenten rose',\n '47': 'marigold',\n '59': 'orange dahlia',\n '48': 'buttercup',\n '55': 'pelargonium',\n '36': 'ruby-lipped cattleya',\n '91': 'hippeastrum',\n '29': 'artichoke',\n '71': 'gazania',\n '90': 'canna lily',\n '18': 'peruvian lily',\n '98': 'mexican petunia',\n '8': 'bird of paradise',\n '30': 'sweet william',\n '17': 'purple coneflower',\n '52': 'wild pansy',\n '84': 'columbine',\n '12': \"colt's foot\",\n '11': 'snapdragon',\n '96': 'camellia',\n '23': 'fritillary',\n '50': 'common dandelion',\n '44': 'poinsettia',\n '53': 'primula',\n '72': 'azalea',\n '65': 'californian poppy',\n '80': 'anthurium',\n '76': 'morning glory',\n '37': 'cape flower',\n '56': 'bishop of llandaff',\n '60': 'pink-yellow dahlia',\n '82': 'clematis',\n '58': 'geranium',\n '75': 'thorn apple',\n '41': 'barbeton daisy',\n '95': 'bougainvillea',\n '43': 'sword lily',\n '83': 'hibiscus',\n '78': 'lotus lotus',\n '88': 'cyclamen',\n '94': 'foxglove',\n '81': 'frangipani',\n '74': 'rose',\n '89': 'watercress',\n '73': 'water lily',\n '46': 'wallflower',\n '77': 'passion flower',\n '51': 'petunia'}"
     },
     "execution_count": 9,
     "metadata": {},
     "output_type": "execute_result"
    }
   ],
   "source": [
    "cat_to_name"
   ]
  },
  {
   "cell_type": "markdown",
   "metadata": {
    "colab_type": "text",
    "id": "wSBGNSA8RPfU"
   },
   "source": [
    "### 加载models中提供的模型，并且直接用训练的好权重当做初始化参数\n",
    "- 第一次执行需要下载，可能会比较慢，我会提供给大家一份下载好的，可以直接放到相应路径"
   ]
  },
  {
   "cell_type": "code",
   "execution_count": 10,
   "metadata": {
    "cellView": "form",
    "colab": {},
    "colab_type": "code",
    "collapsed": true,
    "id": "OWVvodU_PfBC",
    "ExecuteTime": {
     "end_time": "2024-01-03T14:48:44.595256400Z",
     "start_time": "2024-01-03T14:48:44.580274700Z"
    }
   },
   "outputs": [],
   "source": [
    "model_name = 'resnet'  #可选的比较多 ['resnet', 'alexnet', 'vgg', 'squeezenet', 'densenet', 'inception']\n",
    "#是否用人家训练好的特征来做\n",
    "feature_extract = True #都用人家特征，咱先不更新"
   ]
  },
  {
   "cell_type": "code",
   "execution_count": 11,
   "metadata": {
    "colab": {
     "base_uri": "https://localhost:8080/",
     "height": 34
    },
    "colab_type": "code",
    "id": "pU4AlTEuiBtZ",
    "outputId": "54868c22-b059-4eda-9e4f-0911a4b372b9",
    "ExecuteTime": {
     "end_time": "2024-01-03T14:48:44.782836200Z",
     "start_time": "2024-01-03T14:48:44.753631100Z"
    }
   },
   "outputs": [
    {
     "name": "stdout",
     "output_type": "stream",
     "text": [
      "CUDA is available!  Training on GPU ...\n"
     ]
    }
   ],
   "source": [
    "# 是否用GPU训练\n",
    "train_on_gpu = torch.cuda.is_available()\n",
    "\n",
    "if not train_on_gpu:\n",
    "    print('CUDA is not available.  Training on CPU ...')\n",
    "else:\n",
    "    print('CUDA is available!  Training on GPU ...')\n",
    "    \n",
    "device = torch.device(\"cuda:0\" if torch.cuda.is_available() else \"cpu\")"
   ]
  },
  {
   "cell_type": "markdown",
   "metadata": {},
   "source": [
    "#### 模型参数要不要更新\n",
    "- 有时候用人家模型，就一直用了，更不更新咱们可以自己定"
   ]
  },
  {
   "cell_type": "code",
   "execution_count": 12,
   "metadata": {
    "colab": {},
    "colab_type": "code",
    "collapsed": true,
    "id": "tfjrGAg5W5dE",
    "ExecuteTime": {
     "end_time": "2024-01-03T14:48:45.127459Z",
     "start_time": "2024-01-03T14:48:45.118710Z"
    }
   },
   "outputs": [],
   "source": [
    "def set_parameter_requires_grad(model, feature_extracting):\n",
    "    if feature_extracting:\n",
    "        for param in model.parameters():\n",
    "            param.requires_grad = False"
   ]
  },
  {
   "cell_type": "code",
   "execution_count": 13,
   "metadata": {
    "ExecuteTime": {
     "end_time": "2024-01-03T14:48:45.454620200Z",
     "start_time": "2024-01-03T14:48:45.332458400Z"
    }
   },
   "outputs": [
    {
     "data": {
      "text/plain": "ResNet(\n  (conv1): Conv2d(3, 64, kernel_size=(7, 7), stride=(2, 2), padding=(3, 3), bias=False)\n  (bn1): BatchNorm2d(64, eps=1e-05, momentum=0.1, affine=True, track_running_stats=True)\n  (relu): ReLU(inplace=True)\n  (maxpool): MaxPool2d(kernel_size=3, stride=2, padding=1, dilation=1, ceil_mode=False)\n  (layer1): Sequential(\n    (0): BasicBlock(\n      (conv1): Conv2d(64, 64, kernel_size=(3, 3), stride=(1, 1), padding=(1, 1), bias=False)\n      (bn1): BatchNorm2d(64, eps=1e-05, momentum=0.1, affine=True, track_running_stats=True)\n      (relu): ReLU(inplace=True)\n      (conv2): Conv2d(64, 64, kernel_size=(3, 3), stride=(1, 1), padding=(1, 1), bias=False)\n      (bn2): BatchNorm2d(64, eps=1e-05, momentum=0.1, affine=True, track_running_stats=True)\n    )\n    (1): BasicBlock(\n      (conv1): Conv2d(64, 64, kernel_size=(3, 3), stride=(1, 1), padding=(1, 1), bias=False)\n      (bn1): BatchNorm2d(64, eps=1e-05, momentum=0.1, affine=True, track_running_stats=True)\n      (relu): ReLU(inplace=True)\n      (conv2): Conv2d(64, 64, kernel_size=(3, 3), stride=(1, 1), padding=(1, 1), bias=False)\n      (bn2): BatchNorm2d(64, eps=1e-05, momentum=0.1, affine=True, track_running_stats=True)\n    )\n  )\n  (layer2): Sequential(\n    (0): BasicBlock(\n      (conv1): Conv2d(64, 128, kernel_size=(3, 3), stride=(2, 2), padding=(1, 1), bias=False)\n      (bn1): BatchNorm2d(128, eps=1e-05, momentum=0.1, affine=True, track_running_stats=True)\n      (relu): ReLU(inplace=True)\n      (conv2): Conv2d(128, 128, kernel_size=(3, 3), stride=(1, 1), padding=(1, 1), bias=False)\n      (bn2): BatchNorm2d(128, eps=1e-05, momentum=0.1, affine=True, track_running_stats=True)\n      (downsample): Sequential(\n        (0): Conv2d(64, 128, kernel_size=(1, 1), stride=(2, 2), bias=False)\n        (1): BatchNorm2d(128, eps=1e-05, momentum=0.1, affine=True, track_running_stats=True)\n      )\n    )\n    (1): BasicBlock(\n      (conv1): Conv2d(128, 128, kernel_size=(3, 3), stride=(1, 1), padding=(1, 1), bias=False)\n      (bn1): BatchNorm2d(128, eps=1e-05, momentum=0.1, affine=True, track_running_stats=True)\n      (relu): ReLU(inplace=True)\n      (conv2): Conv2d(128, 128, kernel_size=(3, 3), stride=(1, 1), padding=(1, 1), bias=False)\n      (bn2): BatchNorm2d(128, eps=1e-05, momentum=0.1, affine=True, track_running_stats=True)\n    )\n  )\n  (layer3): Sequential(\n    (0): BasicBlock(\n      (conv1): Conv2d(128, 256, kernel_size=(3, 3), stride=(2, 2), padding=(1, 1), bias=False)\n      (bn1): BatchNorm2d(256, eps=1e-05, momentum=0.1, affine=True, track_running_stats=True)\n      (relu): ReLU(inplace=True)\n      (conv2): Conv2d(256, 256, kernel_size=(3, 3), stride=(1, 1), padding=(1, 1), bias=False)\n      (bn2): BatchNorm2d(256, eps=1e-05, momentum=0.1, affine=True, track_running_stats=True)\n      (downsample): Sequential(\n        (0): Conv2d(128, 256, kernel_size=(1, 1), stride=(2, 2), bias=False)\n        (1): BatchNorm2d(256, eps=1e-05, momentum=0.1, affine=True, track_running_stats=True)\n      )\n    )\n    (1): BasicBlock(\n      (conv1): Conv2d(256, 256, kernel_size=(3, 3), stride=(1, 1), padding=(1, 1), bias=False)\n      (bn1): BatchNorm2d(256, eps=1e-05, momentum=0.1, affine=True, track_running_stats=True)\n      (relu): ReLU(inplace=True)\n      (conv2): Conv2d(256, 256, kernel_size=(3, 3), stride=(1, 1), padding=(1, 1), bias=False)\n      (bn2): BatchNorm2d(256, eps=1e-05, momentum=0.1, affine=True, track_running_stats=True)\n    )\n  )\n  (layer4): Sequential(\n    (0): BasicBlock(\n      (conv1): Conv2d(256, 512, kernel_size=(3, 3), stride=(2, 2), padding=(1, 1), bias=False)\n      (bn1): BatchNorm2d(512, eps=1e-05, momentum=0.1, affine=True, track_running_stats=True)\n      (relu): ReLU(inplace=True)\n      (conv2): Conv2d(512, 512, kernel_size=(3, 3), stride=(1, 1), padding=(1, 1), bias=False)\n      (bn2): BatchNorm2d(512, eps=1e-05, momentum=0.1, affine=True, track_running_stats=True)\n      (downsample): Sequential(\n        (0): Conv2d(256, 512, kernel_size=(1, 1), stride=(2, 2), bias=False)\n        (1): BatchNorm2d(512, eps=1e-05, momentum=0.1, affine=True, track_running_stats=True)\n      )\n    )\n    (1): BasicBlock(\n      (conv1): Conv2d(512, 512, kernel_size=(3, 3), stride=(1, 1), padding=(1, 1), bias=False)\n      (bn1): BatchNorm2d(512, eps=1e-05, momentum=0.1, affine=True, track_running_stats=True)\n      (relu): ReLU(inplace=True)\n      (conv2): Conv2d(512, 512, kernel_size=(3, 3), stride=(1, 1), padding=(1, 1), bias=False)\n      (bn2): BatchNorm2d(512, eps=1e-05, momentum=0.1, affine=True, track_running_stats=True)\n    )\n  )\n  (avgpool): AdaptiveAvgPool2d(output_size=(1, 1))\n  (fc): Linear(in_features=512, out_features=1000, bias=True)\n)"
     },
     "execution_count": 13,
     "metadata": {},
     "output_type": "execute_result"
    }
   ],
   "source": [
    "model_ft = models.resnet18()#18层的能快点，条件好点的也可以选152\n",
    "model_ft"
   ]
  },
  {
   "cell_type": "markdown",
   "metadata": {},
   "source": [
    "### 把模型输出层改成自己的"
   ]
  },
  {
   "cell_type": "code",
   "execution_count": 14,
   "metadata": {
    "colab": {},
    "colab_type": "code",
    "collapsed": true,
    "id": "D85BPk2GXBbj",
    "ExecuteTime": {
     "end_time": "2024-01-03T14:48:45.714694Z",
     "start_time": "2024-01-03T14:48:45.707647700Z"
    }
   },
   "outputs": [],
   "source": [
    "def initialize_model(model_name, num_classes, feature_extract, use_pretrained=True):\n",
    "    \n",
    "    model_ft = models.resnet18(pretrained=use_pretrained)\n",
    "    set_parameter_requires_grad(model_ft, feature_extract)\n",
    "    \n",
    "    num_ftrs = model_ft.fc.in_features\n",
    "    # 获取模型的全连接层的输入特征数目num_ftrs，并用nn.Linear(num_ftrs, 102)替换原有的全连接层，其中102是输出的类别数目，即num_classes。\n",
    "    model_ft.fc = nn.Linear(num_ftrs, 102)#类别数自己根据自己任务来\n",
    "\n",
    "    input_size = 64#输入大小根据自己配置来\n",
    "\n",
    "    return model_ft, input_size"
   ]
  },
  {
   "cell_type": "markdown",
   "metadata": {
    "colab_type": "text",
    "id": "o3PCsZshRgSG"
   },
   "source": [
    "### 设置哪些层需要训练"
   ]
  },
  {
   "cell_type": "code",
   "execution_count": 15,
   "metadata": {
    "colab": {
     "base_uri": "https://localhost:8080/",
     "height": 102
    },
    "colab_type": "code",
    "id": "Nu5_c1aNU3L9",
    "outputId": "46daeef6-d017-409f-a154-8ca530765f80",
    "ExecuteTime": {
     "end_time": "2024-01-03T14:48:48.793208400Z",
     "start_time": "2024-01-03T14:48:46.499240500Z"
    }
   },
   "outputs": [
    {
     "name": "stderr",
     "output_type": "stream",
     "text": [
      "Downloading: \"https://download.pytorch.org/models/resnet18-f37072fd.pth\" to C:\\Users\\Administrator/.cache\\torch\\hub\\checkpoints\\resnet18-f37072fd.pth\n",
      "100%|██████████| 44.7M/44.7M [00:01<00:00, 25.7MB/s]\n"
     ]
    },
    {
     "name": "stdout",
     "output_type": "stream",
     "text": [
      "Params to learn:\n",
      "\t fc.weight\n",
      "\t fc.bias\n"
     ]
    }
   ],
   "source": [
    "model_ft, input_size = initialize_model(model_name, 102, feature_extract, use_pretrained=True)\n",
    "\n",
    "#GPU还是CPU计算\n",
    "model_ft = model_ft.to(device)\n",
    "\n",
    "# 模型保存，名字自己起\n",
    "filename='checkpoint.pth'\n",
    "\n",
    "# 是否训练所有层\n",
    "params_to_update = model_ft.parameters()\n",
    "print(\"Params to learn:\")\n",
    "if feature_extract:\n",
    "    params_to_update = []\n",
    "    for name,param in model_ft.named_parameters():\n",
    "        if param.requires_grad == True:\n",
    "            params_to_update.append(param)\n",
    "            print(\"\\t\",name)\n",
    "else:\n",
    "    for name,param in model_ft.named_parameters():\n",
    "        if param.requires_grad == True:\n",
    "            print(\"\\t\",name)"
   ]
  },
  {
   "cell_type": "code",
   "execution_count": 16,
   "metadata": {
    "ExecuteTime": {
     "end_time": "2024-01-03T14:48:48.802583900Z",
     "start_time": "2024-01-03T14:48:48.794205800Z"
    }
   },
   "outputs": [
    {
     "data": {
      "text/plain": "ResNet(\n  (conv1): Conv2d(3, 64, kernel_size=(7, 7), stride=(2, 2), padding=(3, 3), bias=False)\n  (bn1): BatchNorm2d(64, eps=1e-05, momentum=0.1, affine=True, track_running_stats=True)\n  (relu): ReLU(inplace=True)\n  (maxpool): MaxPool2d(kernel_size=3, stride=2, padding=1, dilation=1, ceil_mode=False)\n  (layer1): Sequential(\n    (0): BasicBlock(\n      (conv1): Conv2d(64, 64, kernel_size=(3, 3), stride=(1, 1), padding=(1, 1), bias=False)\n      (bn1): BatchNorm2d(64, eps=1e-05, momentum=0.1, affine=True, track_running_stats=True)\n      (relu): ReLU(inplace=True)\n      (conv2): Conv2d(64, 64, kernel_size=(3, 3), stride=(1, 1), padding=(1, 1), bias=False)\n      (bn2): BatchNorm2d(64, eps=1e-05, momentum=0.1, affine=True, track_running_stats=True)\n    )\n    (1): BasicBlock(\n      (conv1): Conv2d(64, 64, kernel_size=(3, 3), stride=(1, 1), padding=(1, 1), bias=False)\n      (bn1): BatchNorm2d(64, eps=1e-05, momentum=0.1, affine=True, track_running_stats=True)\n      (relu): ReLU(inplace=True)\n      (conv2): Conv2d(64, 64, kernel_size=(3, 3), stride=(1, 1), padding=(1, 1), bias=False)\n      (bn2): BatchNorm2d(64, eps=1e-05, momentum=0.1, affine=True, track_running_stats=True)\n    )\n  )\n  (layer2): Sequential(\n    (0): BasicBlock(\n      (conv1): Conv2d(64, 128, kernel_size=(3, 3), stride=(2, 2), padding=(1, 1), bias=False)\n      (bn1): BatchNorm2d(128, eps=1e-05, momentum=0.1, affine=True, track_running_stats=True)\n      (relu): ReLU(inplace=True)\n      (conv2): Conv2d(128, 128, kernel_size=(3, 3), stride=(1, 1), padding=(1, 1), bias=False)\n      (bn2): BatchNorm2d(128, eps=1e-05, momentum=0.1, affine=True, track_running_stats=True)\n      (downsample): Sequential(\n        (0): Conv2d(64, 128, kernel_size=(1, 1), stride=(2, 2), bias=False)\n        (1): BatchNorm2d(128, eps=1e-05, momentum=0.1, affine=True, track_running_stats=True)\n      )\n    )\n    (1): BasicBlock(\n      (conv1): Conv2d(128, 128, kernel_size=(3, 3), stride=(1, 1), padding=(1, 1), bias=False)\n      (bn1): BatchNorm2d(128, eps=1e-05, momentum=0.1, affine=True, track_running_stats=True)\n      (relu): ReLU(inplace=True)\n      (conv2): Conv2d(128, 128, kernel_size=(3, 3), stride=(1, 1), padding=(1, 1), bias=False)\n      (bn2): BatchNorm2d(128, eps=1e-05, momentum=0.1, affine=True, track_running_stats=True)\n    )\n  )\n  (layer3): Sequential(\n    (0): BasicBlock(\n      (conv1): Conv2d(128, 256, kernel_size=(3, 3), stride=(2, 2), padding=(1, 1), bias=False)\n      (bn1): BatchNorm2d(256, eps=1e-05, momentum=0.1, affine=True, track_running_stats=True)\n      (relu): ReLU(inplace=True)\n      (conv2): Conv2d(256, 256, kernel_size=(3, 3), stride=(1, 1), padding=(1, 1), bias=False)\n      (bn2): BatchNorm2d(256, eps=1e-05, momentum=0.1, affine=True, track_running_stats=True)\n      (downsample): Sequential(\n        (0): Conv2d(128, 256, kernel_size=(1, 1), stride=(2, 2), bias=False)\n        (1): BatchNorm2d(256, eps=1e-05, momentum=0.1, affine=True, track_running_stats=True)\n      )\n    )\n    (1): BasicBlock(\n      (conv1): Conv2d(256, 256, kernel_size=(3, 3), stride=(1, 1), padding=(1, 1), bias=False)\n      (bn1): BatchNorm2d(256, eps=1e-05, momentum=0.1, affine=True, track_running_stats=True)\n      (relu): ReLU(inplace=True)\n      (conv2): Conv2d(256, 256, kernel_size=(3, 3), stride=(1, 1), padding=(1, 1), bias=False)\n      (bn2): BatchNorm2d(256, eps=1e-05, momentum=0.1, affine=True, track_running_stats=True)\n    )\n  )\n  (layer4): Sequential(\n    (0): BasicBlock(\n      (conv1): Conv2d(256, 512, kernel_size=(3, 3), stride=(2, 2), padding=(1, 1), bias=False)\n      (bn1): BatchNorm2d(512, eps=1e-05, momentum=0.1, affine=True, track_running_stats=True)\n      (relu): ReLU(inplace=True)\n      (conv2): Conv2d(512, 512, kernel_size=(3, 3), stride=(1, 1), padding=(1, 1), bias=False)\n      (bn2): BatchNorm2d(512, eps=1e-05, momentum=0.1, affine=True, track_running_stats=True)\n      (downsample): Sequential(\n        (0): Conv2d(256, 512, kernel_size=(1, 1), stride=(2, 2), bias=False)\n        (1): BatchNorm2d(512, eps=1e-05, momentum=0.1, affine=True, track_running_stats=True)\n      )\n    )\n    (1): BasicBlock(\n      (conv1): Conv2d(512, 512, kernel_size=(3, 3), stride=(1, 1), padding=(1, 1), bias=False)\n      (bn1): BatchNorm2d(512, eps=1e-05, momentum=0.1, affine=True, track_running_stats=True)\n      (relu): ReLU(inplace=True)\n      (conv2): Conv2d(512, 512, kernel_size=(3, 3), stride=(1, 1), padding=(1, 1), bias=False)\n      (bn2): BatchNorm2d(512, eps=1e-05, momentum=0.1, affine=True, track_running_stats=True)\n    )\n  )\n  (avgpool): AdaptiveAvgPool2d(output_size=(1, 1))\n  (fc): Linear(in_features=512, out_features=102, bias=True)\n)"
     },
     "execution_count": 16,
     "metadata": {},
     "output_type": "execute_result"
    }
   ],
   "source": [
    "model_ft"
   ]
  },
  {
   "cell_type": "markdown",
   "metadata": {
    "colab_type": "text",
    "id": "M0RxpAEhR7lL"
   },
   "source": [
    "### 优化器设置"
   ]
  },
  {
   "cell_type": "code",
   "execution_count": 17,
   "metadata": {
    "colab": {},
    "colab_type": "code",
    "collapsed": true,
    "id": "baLfYCINRI_H",
    "ExecuteTime": {
     "end_time": "2024-01-03T14:48:52.741981600Z",
     "start_time": "2024-01-03T14:48:52.735486700Z"
    }
   },
   "outputs": [],
   "source": [
    "# 优化器设置\n",
    "optimizer_ft = optim.Adam(params_to_update, lr=1e-2)#要训练啥参数，你来定\n",
    "scheduler = optim.lr_scheduler.StepLR(optimizer_ft, step_size=10, gamma=0.1)#学习率每7个epoch衰减成原来的1/10\n",
    "criterion = nn.CrossEntropyLoss()"
   ]
  },
  {
   "cell_type": "markdown",
   "metadata": {
    "colab_type": "text",
    "id": "s-PpMk90ShRz"
   },
   "source": [
    "### 训练模块"
   ]
  },
  {
   "cell_type": "code",
   "execution_count": 18,
   "metadata": {
    "colab": {},
    "colab_type": "code",
    "id": "EzPXJbyZXuK0",
    "ExecuteTime": {
     "end_time": "2024-01-03T14:48:53.565572700Z",
     "start_time": "2024-01-03T14:48:53.543061600Z"
    }
   },
   "outputs": [],
   "source": [
    "def train_model(model, dataloaders, criterion, optimizer, num_epochs=25,filename='best.pt'):\n",
    "    #咱们要算时间的\n",
    "    since = time.time()\n",
    "    #也要记录最好的那一次\n",
    "    best_acc = 0\n",
    "    #模型也得放到你的CPU或者GPU\n",
    "    model.to(device)\n",
    "    #训练过程中打印一堆损失和指标\n",
    "    val_acc_history = []\n",
    "    train_acc_history = []\n",
    "    train_losses = []\n",
    "    valid_losses = []\n",
    "    #学习率\n",
    "    LRs = [optimizer.param_groups[0]['lr']]\n",
    "    #最好的那次模型，后续会变的，先初始化\n",
    "    #在训练过程中，如果在验证阶段获得了更好的性能（比如更高的准确率），就会更新 best_model_wts，以保存当前性能最佳的模型的参数。\n",
    "    best_model_wts = copy.deepcopy(model.state_dict())\n",
    "    #一个个epoch来遍历\n",
    "    for epoch in range(num_epochs):\n",
    "        print('Epoch {}/{}'.format(epoch, num_epochs - 1))\n",
    "        print('-' * 10)\n",
    "\n",
    "        # 训练和验证\n",
    "        for phase in ['train', 'valid']:\n",
    "            if phase == 'train':\n",
    "                model.train()  # 训练\n",
    "            else:\n",
    "                model.eval()   # 验证\n",
    "\n",
    "            running_loss = 0.0\n",
    "            running_corrects = 0\n",
    "\n",
    "            # 把数据都取个遍\n",
    "            for inputs, labels in dataloaders[phase]:\n",
    "                inputs = inputs.to(device)#放到你的CPU或GPU\n",
    "                labels = labels.to(device)\n",
    "\n",
    "                # 清零\n",
    "                optimizer.zero_grad()\n",
    "                # 只有训练的时候计算和更新梯度\n",
    "                outputs = model(inputs)\n",
    "                loss = criterion(outputs, labels)\n",
    "                _, preds = torch.max(outputs, 1)\n",
    "                # 训练阶段更新权重\n",
    "                if phase == 'train':\n",
    "                    loss.backward()\n",
    "                    optimizer.step()\n",
    "\n",
    "                # 计算损失\n",
    "                running_loss += loss.item() * inputs.size(0)#0表示batch那个维度\n",
    "                running_corrects += torch.sum(preds == labels.data)#预测结果最大的和真实值是否一致\n",
    "                \n",
    "            \n",
    "            \n",
    "            epoch_loss = running_loss / len(dataloaders[phase].dataset)#算平均\n",
    "            epoch_acc = running_corrects.double() / len(dataloaders[phase].dataset)\n",
    "            \n",
    "            time_elapsed = time.time() - since#一个epoch我浪费了多少时间\n",
    "            print('Time elapsed {:.0f}m {:.0f}s'.format(time_elapsed // 60, time_elapsed % 60))\n",
    "            print('{} Loss: {:.4f} Acc: {:.4f}'.format(phase, epoch_loss, epoch_acc))\n",
    "            \n",
    "\n",
    "            # 得到最好那次的模型\n",
    "            if phase == 'valid' and epoch_acc > best_acc:\n",
    "                best_acc = epoch_acc\n",
    "                best_model_wts = copy.deepcopy(model.state_dict())\n",
    "                state = {\n",
    "                  'state_dict': model.state_dict(),#字典里key就是各层的名字，值就是训练好的权重\n",
    "                  'best_acc': best_acc,\n",
    "                  'optimizer' : optimizer.state_dict(),\n",
    "                }\n",
    "                torch.save(state, filename)\n",
    "            if phase == 'valid':\n",
    "                val_acc_history.append(epoch_acc)\n",
    "                valid_losses.append(epoch_loss)\n",
    "                #scheduler.step(epoch_loss)#学习率衰减\n",
    "            if phase == 'train':\n",
    "                train_acc_history.append(epoch_acc)\n",
    "                train_losses.append(epoch_loss)\n",
    "        \n",
    "        print('Optimizer learning rate : {:.7f}'.format(optimizer.param_groups[0]['lr']))\n",
    "        LRs.append(optimizer.param_groups[0]['lr'])\n",
    "        print()\n",
    "        scheduler.step()#学习率衰减\n",
    "\n",
    "    time_elapsed = time.time() - since\n",
    "    print('Training complete in {:.0f}m {:.0f}s'.format(time_elapsed // 60, time_elapsed % 60))\n",
    "    print('Best val Acc: {:4f}'.format(best_acc))\n",
    "\n",
    "    # 训练完后用最好的一次当做模型最终的结果,等着一会测试\n",
    "    model.load_state_dict(best_model_wts)\n",
    "    return model, val_acc_history, train_acc_history, valid_losses, train_losses, LRs "
   ]
  },
  {
   "cell_type": "markdown",
   "metadata": {},
   "source": [
    "### 开始训练！\n",
    "\n",
    "- 我们现在只训练了输出层"
   ]
  },
  {
   "cell_type": "code",
   "execution_count": 19,
   "metadata": {
    "colab": {},
    "colab_type": "code",
    "id": "MXbS16p_j5U0",
    "ExecuteTime": {
     "end_time": "2024-01-03T15:01:41.414171100Z",
     "start_time": "2024-01-03T14:48:54.748850900Z"
    }
   },
   "outputs": [
    {
     "name": "stdout",
     "output_type": "stream",
     "text": [
      "Epoch 0/19\n",
      "----------\n",
      "Time elapsed 0m 39s\n",
      "train Loss: 4.0382 Acc: 0.2445\n",
      "Time elapsed 0m 43s\n",
      "valid Loss: 3.5366 Acc: 0.2787\n",
      "Optimizer learning rate : 0.0100000\n",
      "\n",
      "Epoch 1/19\n",
      "----------\n",
      "Time elapsed 1m 18s\n",
      "train Loss: 2.8323 Acc: 0.3994\n",
      "Time elapsed 1m 22s\n",
      "valid Loss: 3.4535 Acc: 0.3166\n",
      "Optimizer learning rate : 0.0100000\n",
      "\n",
      "Epoch 2/19\n",
      "----------\n",
      "Time elapsed 1m 56s\n",
      "train Loss: 2.7125 Acc: 0.4248\n",
      "Time elapsed 1m 60s\n",
      "valid Loss: 3.8481 Acc: 0.2775\n",
      "Optimizer learning rate : 0.0100000\n",
      "\n",
      "Epoch 3/19\n",
      "----------\n",
      "Time elapsed 2m 34s\n",
      "train Loss: 2.7596 Acc: 0.4333\n",
      "Time elapsed 2m 37s\n",
      "valid Loss: 4.0186 Acc: 0.2971\n",
      "Optimizer learning rate : 0.0100000\n",
      "\n",
      "Epoch 4/19\n",
      "----------\n",
      "Time elapsed 3m 12s\n",
      "train Loss: 2.7397 Acc: 0.4530\n",
      "Time elapsed 3m 16s\n",
      "valid Loss: 4.2461 Acc: 0.3044\n",
      "Optimizer learning rate : 0.0100000\n",
      "\n",
      "Epoch 5/19\n",
      "----------\n",
      "Time elapsed 3m 50s\n",
      "train Loss: 2.8439 Acc: 0.4400\n",
      "Time elapsed 3m 54s\n",
      "valid Loss: 4.3143 Acc: 0.3044\n",
      "Optimizer learning rate : 0.0100000\n",
      "\n",
      "Epoch 6/19\n",
      "----------\n",
      "Time elapsed 4m 28s\n",
      "train Loss: 2.7688 Acc: 0.4542\n",
      "Time elapsed 4m 32s\n",
      "valid Loss: 4.0061 Acc: 0.3166\n",
      "Optimizer learning rate : 0.0100000\n",
      "\n",
      "Epoch 7/19\n",
      "----------\n",
      "Time elapsed 5m 6s\n",
      "train Loss: 2.6205 Acc: 0.4811\n",
      "Time elapsed 5m 10s\n",
      "valid Loss: 3.9525 Acc: 0.3386\n",
      "Optimizer learning rate : 0.0100000\n",
      "\n",
      "Epoch 8/19\n",
      "----------\n",
      "Time elapsed 5m 44s\n",
      "train Loss: 2.6845 Acc: 0.4766\n",
      "Time elapsed 5m 48s\n",
      "valid Loss: 4.3196 Acc: 0.3252\n",
      "Optimizer learning rate : 0.0100000\n",
      "\n",
      "Epoch 9/19\n",
      "----------\n",
      "Time elapsed 6m 22s\n",
      "train Loss: 2.7841 Acc: 0.4669\n",
      "Time elapsed 6m 25s\n",
      "valid Loss: 4.1140 Acc: 0.3350\n",
      "Optimizer learning rate : 0.0100000\n",
      "\n",
      "Epoch 10/19\n",
      "----------\n",
      "Time elapsed 7m 1s\n",
      "train Loss: 2.2677 Acc: 0.5209\n",
      "Time elapsed 7m 4s\n",
      "valid Loss: 3.6361 Acc: 0.3594\n",
      "Optimizer learning rate : 0.0010000\n",
      "\n",
      "Epoch 11/19\n",
      "----------\n",
      "Time elapsed 7m 38s\n",
      "train Loss: 2.1454 Acc: 0.5440\n",
      "Time elapsed 7m 42s\n",
      "valid Loss: 3.6035 Acc: 0.3570\n",
      "Optimizer learning rate : 0.0010000\n",
      "\n",
      "Epoch 12/19\n",
      "----------\n",
      "Time elapsed 8m 16s\n",
      "train Loss: 2.0617 Acc: 0.5453\n",
      "Time elapsed 8m 20s\n",
      "valid Loss: 3.5202 Acc: 0.3667\n",
      "Optimizer learning rate : 0.0010000\n",
      "\n",
      "Epoch 13/19\n",
      "----------\n",
      "Time elapsed 8m 55s\n",
      "train Loss: 1.9673 Acc: 0.5559\n",
      "Time elapsed 8m 58s\n",
      "valid Loss: 3.4716 Acc: 0.3606\n",
      "Optimizer learning rate : 0.0010000\n",
      "\n",
      "Epoch 14/19\n",
      "----------\n",
      "Time elapsed 9m 33s\n",
      "train Loss: 1.9665 Acc: 0.5668\n",
      "Time elapsed 9m 37s\n",
      "valid Loss: 3.4602 Acc: 0.3704\n",
      "Optimizer learning rate : 0.0010000\n",
      "\n",
      "Epoch 15/19\n",
      "----------\n",
      "Time elapsed 10m 12s\n",
      "train Loss: 1.8755 Acc: 0.5734\n",
      "Time elapsed 10m 15s\n",
      "valid Loss: 3.3648 Acc: 0.3778\n",
      "Optimizer learning rate : 0.0010000\n",
      "\n",
      "Epoch 16/19\n",
      "----------\n",
      "Time elapsed 10m 49s\n",
      "train Loss: 1.8901 Acc: 0.5659\n",
      "Time elapsed 10m 53s\n",
      "valid Loss: 3.3878 Acc: 0.3667\n",
      "Optimizer learning rate : 0.0010000\n",
      "\n",
      "Epoch 17/19\n",
      "----------\n",
      "Time elapsed 11m 27s\n",
      "train Loss: 1.8489 Acc: 0.5702\n",
      "Time elapsed 11m 30s\n",
      "valid Loss: 3.3437 Acc: 0.3753\n",
      "Optimizer learning rate : 0.0010000\n",
      "\n",
      "Epoch 18/19\n",
      "----------\n",
      "Time elapsed 12m 5s\n",
      "train Loss: 1.8167 Acc: 0.5710\n",
      "Time elapsed 12m 9s\n",
      "valid Loss: 3.3168 Acc: 0.3790\n",
      "Optimizer learning rate : 0.0010000\n",
      "\n",
      "Epoch 19/19\n",
      "----------\n",
      "Time elapsed 12m 43s\n",
      "train Loss: 1.8252 Acc: 0.5688\n",
      "Time elapsed 12m 47s\n",
      "valid Loss: 3.3292 Acc: 0.3753\n",
      "Optimizer learning rate : 0.0010000\n",
      "\n",
      "Training complete in 12m 47s\n",
      "Best val Acc: 0.378973\n"
     ]
    }
   ],
   "source": [
    "model_ft, val_acc_history, train_acc_history, valid_losses, train_losses, LRs  = train_model(model_ft, dataloaders, criterion, optimizer_ft, num_epochs=20)"
   ]
  },
  {
   "cell_type": "markdown",
   "metadata": {
    "colab_type": "text",
    "id": "7rjvtqx0TGkb"
   },
   "source": [
    "### 再继续训练所有层"
   ]
  },
  {
   "cell_type": "code",
   "execution_count": 20,
   "metadata": {
    "colab": {},
    "colab_type": "code",
    "collapsed": true,
    "id": "cSGcACfmrIC6",
    "ExecuteTime": {
     "end_time": "2024-01-03T15:01:41.415169800Z",
     "start_time": "2024-01-03T15:01:41.409941500Z"
    }
   },
   "outputs": [],
   "source": [
    "for param in model_ft.parameters():\n",
    "    param.requires_grad = True\n",
    "\n",
    "# 再继续训练所有的参数，学习率调小一点\n",
    "optimizer = optim.Adam(model_ft.parameters(), lr=1e-3)\n",
    "scheduler = optim.lr_scheduler.StepLR(optimizer_ft, step_size=7, gamma=0.1)\n",
    "\n",
    "# 损失函数\n",
    "criterion = nn.CrossEntropyLoss()"
   ]
  },
  {
   "cell_type": "code",
   "execution_count": 21,
   "metadata": {
    "colab": {},
    "colab_type": "code",
    "id": "LFiiMNWaHXfw",
    "ExecuteTime": {
     "end_time": "2024-01-03T15:01:41.936655800Z",
     "start_time": "2024-01-03T15:01:41.414171100Z"
    }
   },
   "outputs": [
    {
     "ename": "FileNotFoundError",
     "evalue": "[Errno 2] No such file or directory: 'checkpoint.pth'",
     "output_type": "error",
     "traceback": [
      "\u001B[1;31m---------------------------------------------------------------------------\u001B[0m",
      "\u001B[1;31mFileNotFoundError\u001B[0m                         Traceback (most recent call last)",
      "Cell \u001B[1;32mIn[21], line 3\u001B[0m\n\u001B[0;32m      1\u001B[0m \u001B[38;5;66;03m# 加载之前训练好的权重参数\u001B[39;00m\n\u001B[1;32m----> 3\u001B[0m checkpoint \u001B[38;5;241m=\u001B[39m torch\u001B[38;5;241m.\u001B[39mload(filename)\n\u001B[0;32m      4\u001B[0m best_acc \u001B[38;5;241m=\u001B[39m checkpoint[\u001B[38;5;124m'\u001B[39m\u001B[38;5;124mbest_acc\u001B[39m\u001B[38;5;124m'\u001B[39m]\n\u001B[0;32m      5\u001B[0m model_ft\u001B[38;5;241m.\u001B[39mload_state_dict(checkpoint[\u001B[38;5;124m'\u001B[39m\u001B[38;5;124mstate_dict\u001B[39m\u001B[38;5;124m'\u001B[39m])\n",
      "File \u001B[1;32mC:\\ProgramData\\anaconda3\\Lib\\site-packages\\torch\\serialization.py:986\u001B[0m, in \u001B[0;36mload\u001B[1;34m(f, map_location, pickle_module, weights_only, mmap, **pickle_load_args)\u001B[0m\n\u001B[0;32m    983\u001B[0m \u001B[38;5;28;01mif\u001B[39;00m \u001B[38;5;124m'\u001B[39m\u001B[38;5;124mencoding\u001B[39m\u001B[38;5;124m'\u001B[39m \u001B[38;5;129;01mnot\u001B[39;00m \u001B[38;5;129;01min\u001B[39;00m pickle_load_args\u001B[38;5;241m.\u001B[39mkeys():\n\u001B[0;32m    984\u001B[0m     pickle_load_args[\u001B[38;5;124m'\u001B[39m\u001B[38;5;124mencoding\u001B[39m\u001B[38;5;124m'\u001B[39m] \u001B[38;5;241m=\u001B[39m \u001B[38;5;124m'\u001B[39m\u001B[38;5;124mutf-8\u001B[39m\u001B[38;5;124m'\u001B[39m\n\u001B[1;32m--> 986\u001B[0m \u001B[38;5;28;01mwith\u001B[39;00m _open_file_like(f, \u001B[38;5;124m'\u001B[39m\u001B[38;5;124mrb\u001B[39m\u001B[38;5;124m'\u001B[39m) \u001B[38;5;28;01mas\u001B[39;00m opened_file:\n\u001B[0;32m    987\u001B[0m     \u001B[38;5;28;01mif\u001B[39;00m _is_zipfile(opened_file):\n\u001B[0;32m    988\u001B[0m         \u001B[38;5;66;03m# The zipfile reader is going to advance the current file position.\u001B[39;00m\n\u001B[0;32m    989\u001B[0m         \u001B[38;5;66;03m# If we want to actually tail call to torch.jit.load, we need to\u001B[39;00m\n\u001B[0;32m    990\u001B[0m         \u001B[38;5;66;03m# reset back to the original position.\u001B[39;00m\n\u001B[0;32m    991\u001B[0m         orig_position \u001B[38;5;241m=\u001B[39m opened_file\u001B[38;5;241m.\u001B[39mtell()\n",
      "File \u001B[1;32mC:\\ProgramData\\anaconda3\\Lib\\site-packages\\torch\\serialization.py:435\u001B[0m, in \u001B[0;36m_open_file_like\u001B[1;34m(name_or_buffer, mode)\u001B[0m\n\u001B[0;32m    433\u001B[0m \u001B[38;5;28;01mdef\u001B[39;00m \u001B[38;5;21m_open_file_like\u001B[39m(name_or_buffer, mode):\n\u001B[0;32m    434\u001B[0m     \u001B[38;5;28;01mif\u001B[39;00m _is_path(name_or_buffer):\n\u001B[1;32m--> 435\u001B[0m         \u001B[38;5;28;01mreturn\u001B[39;00m _open_file(name_or_buffer, mode)\n\u001B[0;32m    436\u001B[0m     \u001B[38;5;28;01melse\u001B[39;00m:\n\u001B[0;32m    437\u001B[0m         \u001B[38;5;28;01mif\u001B[39;00m \u001B[38;5;124m'\u001B[39m\u001B[38;5;124mw\u001B[39m\u001B[38;5;124m'\u001B[39m \u001B[38;5;129;01min\u001B[39;00m mode:\n",
      "File \u001B[1;32mC:\\ProgramData\\anaconda3\\Lib\\site-packages\\torch\\serialization.py:416\u001B[0m, in \u001B[0;36m_open_file.__init__\u001B[1;34m(self, name, mode)\u001B[0m\n\u001B[0;32m    415\u001B[0m \u001B[38;5;28;01mdef\u001B[39;00m \u001B[38;5;21m__init__\u001B[39m(\u001B[38;5;28mself\u001B[39m, name, mode):\n\u001B[1;32m--> 416\u001B[0m     \u001B[38;5;28msuper\u001B[39m()\u001B[38;5;241m.\u001B[39m\u001B[38;5;21m__init__\u001B[39m(\u001B[38;5;28mopen\u001B[39m(name, mode))\n",
      "\u001B[1;31mFileNotFoundError\u001B[0m: [Errno 2] No such file or directory: 'checkpoint.pth'"
     ]
    }
   ],
   "source": [
    "# 加载之前训练好的权重参数\n",
    "\n",
    "checkpoint = torch.load(filename)\n",
    "best_acc = checkpoint['best_acc']\n",
    "model_ft.load_state_dict(checkpoint['state_dict'])"
   ]
  },
  {
   "cell_type": "code",
   "execution_count": null,
   "metadata": {
    "colab": {},
    "colab_type": "code",
    "id": "_JCiyD-ytYRu",
    "ExecuteTime": {
     "end_time": "2024-01-03T15:01:41.952285200Z",
     "start_time": "2024-01-03T15:01:41.937158400Z"
    }
   },
   "outputs": [],
   "source": [
    "model_ft, val_acc_history, train_acc_history, valid_losses, train_losses, LRs  = train_model(model_ft, dataloaders, criterion, optimizer, num_epochs=10,)"
   ]
  },
  {
   "cell_type": "markdown",
   "metadata": {
    "colab_type": "text",
    "id": "EbetBY4bd9_U"
   },
   "source": [
    "### 加载训练好的模型"
   ]
  },
  {
   "cell_type": "code",
   "execution_count": null,
   "metadata": {
    "colab": {
     "base_uri": "https://localhost:8080/",
     "height": 68
    },
    "colab_type": "code",
    "id": "0IXiW9_2d9_U",
    "outputId": "2f21f369-df6a-433f-812a-1bbb87d30fa6",
    "ExecuteTime": {
     "start_time": "2024-01-03T15:01:41.940464300Z"
    }
   },
   "outputs": [],
   "source": [
    "model_ft, input_size = initialize_model(model_name, 102, feature_extract, use_pretrained=True)\n",
    "\n",
    "# GPU模式\n",
    "model_ft = model_ft.to(device)\n",
    "\n",
    "# 保存文件的名字\n",
    "filename='best.pt'\n",
    "\n",
    "# 加载模型\n",
    "checkpoint = torch.load(filename)\n",
    "best_acc = checkpoint['best_acc']\n",
    "model_ft.load_state_dict(checkpoint['state_dict'])"
   ]
  },
  {
   "cell_type": "markdown",
   "metadata": {
    "colab_type": "text",
    "id": "PXCZPK70d9_W"
   },
   "source": [
    "### 测试数据预处理\n",
    "\n",
    "- 测试数据处理方法需要跟训练时一直才可以 \n",
    "- crop操作的目的是保证输入的大小是一致的\n",
    "- 标准化操作也是必须的，用跟训练数据相同的mean和std,但是需要注意一点训练数据是在0-1上进行标准化，所以测试数据也需要先归一化\n",
    "- 最后一点，PyTorch中颜色通道是第一个维度，跟很多工具包都不一样，需要转换\n"
   ]
  },
  {
   "cell_type": "code",
   "execution_count": null,
   "metadata": {
    "collapsed": true,
    "ExecuteTime": {
     "start_time": "2024-01-03T15:01:41.942458Z"
    }
   },
   "outputs": [],
   "source": [
    "# 得到一个batch的测试数据\n",
    "dataiter = iter(dataloaders['valid'])\n",
    "images, labels = dataiter.next()\n",
    "\n",
    "model_ft.eval()\n",
    "\n",
    "if train_on_gpu:\n",
    "    output = model_ft(images.cuda())\n",
    "else:\n",
    "    output = model_ft(images)"
   ]
  },
  {
   "cell_type": "markdown",
   "metadata": {},
   "source": [
    "output表示对一个batch中每一个数据得到其属于各个类别的可能性"
   ]
  },
  {
   "cell_type": "code",
   "execution_count": null,
   "metadata": {
    "ExecuteTime": {
     "start_time": "2024-01-03T15:01:41.943456500Z"
    }
   },
   "outputs": [],
   "source": [
    "output.shape"
   ]
  },
  {
   "cell_type": "markdown",
   "metadata": {},
   "source": [
    "### 得到概率最大的那个"
   ]
  },
  {
   "cell_type": "code",
   "execution_count": null,
   "metadata": {
    "ExecuteTime": {
     "start_time": "2024-01-03T15:01:41.945447800Z"
    }
   },
   "outputs": [],
   "source": [
    "_, preds_tensor = torch.max(output, 1)\n",
    "\n",
    "preds = np.squeeze(preds_tensor.numpy()) if not train_on_gpu else np.squeeze(preds_tensor.cpu().numpy())\n",
    "preds"
   ]
  },
  {
   "cell_type": "markdown",
   "metadata": {},
   "source": [
    "### 展示预测结果"
   ]
  },
  {
   "cell_type": "code",
   "execution_count": null,
   "metadata": {
    "collapsed": true,
    "ExecuteTime": {
     "start_time": "2024-01-03T15:01:41.947015500Z"
    }
   },
   "outputs": [],
   "source": [
    "def im_convert(tensor):\n",
    "    \"\"\" 展示数据\"\"\"\n",
    "    \n",
    "    image = tensor.to(\"cpu\").clone().detach()\n",
    "    image = image.numpy().squeeze()\n",
    "    image = image.transpose(1,2,0)\n",
    "    image = image * np.array((0.229, 0.224, 0.225)) + np.array((0.485, 0.456, 0.406))\n",
    "    image = image.clip(0, 1)\n",
    "\n",
    "    return image"
   ]
  },
  {
   "cell_type": "code",
   "execution_count": null,
   "metadata": {
    "ExecuteTime": {
     "start_time": "2024-01-03T15:01:41.948292100Z"
    }
   },
   "outputs": [],
   "source": [
    "fig=plt.figure(figsize=(20, 20))\n",
    "columns =4\n",
    "rows = 2\n",
    "\n",
    "for idx in range (columns*rows):\n",
    "    ax = fig.add_subplot(rows, columns, idx+1, xticks=[], yticks=[])\n",
    "    plt.imshow(im_convert(images[idx]))\n",
    "    ax.set_title(\"{} ({})\".format(cat_to_name[str(preds[idx])], cat_to_name[str(labels[idx].item())]),\n",
    "                 color=(\"green\" if cat_to_name[str(preds[idx])]==cat_to_name[str(labels[idx].item())] else \"red\"))\n",
    "plt.show()"
   ]
  },
  {
   "cell_type": "code",
   "execution_count": null,
   "metadata": {
    "collapsed": true,
    "ExecuteTime": {
     "start_time": "2024-01-03T15:01:41.949290300Z"
    }
   },
   "outputs": [],
   "source": []
  },
  {
   "cell_type": "code",
   "execution_count": null,
   "metadata": {
    "collapsed": true,
    "ExecuteTime": {
     "start_time": "2024-01-03T15:01:41.950287700Z"
    }
   },
   "outputs": [],
   "source": []
  },
  {
   "cell_type": "code",
   "outputs": [],
   "source": [],
   "metadata": {
    "collapsed": false
   }
  }
 ],
 "metadata": {
  "accelerator": "GPU",
  "colab": {
   "collapsed_sections": [],
   "name": "Flowers Classification.ipynb",
   "provenance": [],
   "version": "0.3.2"
  },
  "kernelspec": {
   "display_name": "Python 3",
   "language": "python",
   "name": "python3"
  },
  "language_info": {
   "codemirror_mode": {
    "name": "ipython",
    "version": 3
   },
   "file_extension": ".py",
   "mimetype": "text/x-python",
   "name": "python",
   "nbconvert_exporter": "python",
   "pygments_lexer": "ipython3",
   "version": "3.6.3"
  }
 },
 "nbformat": 4,
 "nbformat_minor": 1
}
